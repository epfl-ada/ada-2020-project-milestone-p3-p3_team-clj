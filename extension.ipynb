{
 "cells": [
  {
   "cell_type": "markdown",
   "metadata": {},
   "source": [
    "## Import libraries and data"
   ]
  },
  {
   "cell_type": "code",
   "execution_count": 1,
   "metadata": {},
   "outputs": [
    {
     "name": "stderr",
     "output_type": "stream",
     "text": [
      "C:\\Users\\clara\\Anaconda3\\lib\\site-packages\\statsmodels\\tools\\_testing.py:19: FutureWarning: pandas.util.testing is deprecated. Use the functions in the public API at pandas.testing instead.\n",
      "  import pandas.util.testing as tm\n",
      "C:\\Users\\clara\\Anaconda3\\lib\\site-packages\\statsmodels\\compat\\pandas.py:23: FutureWarning: The Panel class is removed from pandas. Accessing it from the top-level namespace will also be removed in the next version\n",
      "  data_klasses = (pandas.Series, pandas.DataFrame, pandas.Panel)\n"
     ]
    }
   ],
   "source": [
    "import seaborn as sns\n",
    "import pandas as pd\n",
    "import numpy as np\n",
    "import matplotlib.pyplot as plt\n",
    "import json\n",
    "from scipy.spatial import distance\n",
    "import random as rand\n",
    "import ast\n",
    "from sklearn.linear_model import LogisticRegression\n",
    "from sklearn.metrics import matthews_corrcoef\n",
    "import statsmodels.api as sm"
   ]
  },
  {
   "cell_type": "code",
   "execution_count": 2,
   "metadata": {},
   "outputs": [
    {
     "data": {
      "text/html": [
       "<div>\n",
       "<style scoped>\n",
       "    .dataframe tbody tr th:only-of-type {\n",
       "        vertical-align: middle;\n",
       "    }\n",
       "\n",
       "    .dataframe tbody tr th {\n",
       "        vertical-align: top;\n",
       "    }\n",
       "\n",
       "    .dataframe thead th {\n",
       "        text-align: right;\n",
       "    }\n",
       "</style>\n",
       "<table border=\"1\" class=\"dataframe\">\n",
       "  <thead>\n",
       "    <tr style=\"text-align: right;\">\n",
       "      <th></th>\n",
       "      <th>id</th>\n",
       "      <th>timestamp</th>\n",
       "      <th>text</th>\n",
       "      <th>speaker</th>\n",
       "      <th>reply_to</th>\n",
       "      <th>conversation_id</th>\n",
       "      <th>meta.speaker_intention</th>\n",
       "      <th>meta.receiver_perception</th>\n",
       "      <th>meta.receiver</th>\n",
       "      <th>meta.absolute_message_index</th>\n",
       "      <th>...</th>\n",
       "      <th>meta.game_score_delta</th>\n",
       "      <th>meta.deception_quadrant</th>\n",
       "      <th>meta.parsed</th>\n",
       "      <th>meta.politeness_strategies</th>\n",
       "      <th>meta.politeness_markers</th>\n",
       "      <th>meta.prediction</th>\n",
       "      <th>meta.pred_score</th>\n",
       "      <th>sentiment</th>\n",
       "      <th>discourse_markers</th>\n",
       "      <th>discourse_number</th>\n",
       "    </tr>\n",
       "  </thead>\n",
       "  <tbody>\n",
       "    <tr>\n",
       "      <th>0</th>\n",
       "      <td>Game1-italy-germany-0</td>\n",
       "      <td>74</td>\n",
       "      <td>Germany!\\n\\nJust the person I want to speak wi...</td>\n",
       "      <td>italy-Game1</td>\n",
       "      <td>NaN</td>\n",
       "      <td>Game1-italy-germany</td>\n",
       "      <td>Truth</td>\n",
       "      <td>Truth</td>\n",
       "      <td>germany-Game1</td>\n",
       "      <td>74</td>\n",
       "      <td>...</td>\n",
       "      <td>0</td>\n",
       "      <td>Straightforward</td>\n",
       "      <td>[{'rt': 0, 'toks': [{'tok': 'germany', 'tag': ...</td>\n",
       "      <td>{'feature_politeness_==Please==': 0, 'feature_...</td>\n",
       "      <td>{'politeness_markers_==Please==': [], 'politen...</td>\n",
       "      <td>0</td>\n",
       "      <td>0.112246</td>\n",
       "      <td>[0, 0, -1, -1, 0, 0, 1, 0]</td>\n",
       "      <td>[]</td>\n",
       "      <td>0</td>\n",
       "    </tr>\n",
       "    <tr>\n",
       "      <th>1</th>\n",
       "      <td>Game1-italy-germany-1</td>\n",
       "      <td>76</td>\n",
       "      <td>You've whet my appetite, Italy. What's the sug...</td>\n",
       "      <td>germany-Game1</td>\n",
       "      <td>Game1-italy-germany-0</td>\n",
       "      <td>Game1-italy-germany</td>\n",
       "      <td>Truth</td>\n",
       "      <td>Truth</td>\n",
       "      <td>italy-Game1</td>\n",
       "      <td>76</td>\n",
       "      <td>...</td>\n",
       "      <td>0</td>\n",
       "      <td>Straightforward</td>\n",
       "      <td>[{'rt': 2, 'toks': [{'tok': 'you', 'tag': 'PRP...</td>\n",
       "      <td>{'feature_politeness_==Please==': 0, 'feature_...</td>\n",
       "      <td>{'politeness_markers_==Please==': [], 'politen...</td>\n",
       "      <td>0</td>\n",
       "      <td>0.107987</td>\n",
       "      <td>[0, 0]</td>\n",
       "      <td>[]</td>\n",
       "      <td>0</td>\n",
       "    </tr>\n",
       "    <tr>\n",
       "      <th>2</th>\n",
       "      <td>Game1-italy-germany-2</td>\n",
       "      <td>86</td>\n",
       "      <td>👍</td>\n",
       "      <td>italy-Game1</td>\n",
       "      <td>Game1-italy-germany-1</td>\n",
       "      <td>Game1-italy-germany</td>\n",
       "      <td>Truth</td>\n",
       "      <td>Truth</td>\n",
       "      <td>germany-Game1</td>\n",
       "      <td>86</td>\n",
       "      <td>...</td>\n",
       "      <td>0</td>\n",
       "      <td>Straightforward</td>\n",
       "      <td>[{'rt': 0, 'toks': [{'tok': '👍', 'tag': 'JJ', ...</td>\n",
       "      <td>{'feature_politeness_==Please==': 0, 'feature_...</td>\n",
       "      <td>{'politeness_markers_==Please==': [], 'politen...</td>\n",
       "      <td>0</td>\n",
       "      <td>0.220636</td>\n",
       "      <td>[0]</td>\n",
       "      <td>[]</td>\n",
       "      <td>0</td>\n",
       "    </tr>\n",
       "    <tr>\n",
       "      <th>3</th>\n",
       "      <td>Game1-italy-germany-3</td>\n",
       "      <td>87</td>\n",
       "      <td>It seems like there are a lot of ways that cou...</td>\n",
       "      <td>germany-Game1</td>\n",
       "      <td>Game1-italy-germany-2</td>\n",
       "      <td>Game1-italy-germany</td>\n",
       "      <td>Truth</td>\n",
       "      <td>Truth</td>\n",
       "      <td>italy-Game1</td>\n",
       "      <td>87</td>\n",
       "      <td>...</td>\n",
       "      <td>0</td>\n",
       "      <td>Straightforward</td>\n",
       "      <td>[{'rt': 1, 'toks': [{'tok': 'it', 'tag': 'PRP'...</td>\n",
       "      <td>{'feature_politeness_==Please==': 0, 'feature_...</td>\n",
       "      <td>{'politeness_markers_==Please==': [], 'politen...</td>\n",
       "      <td>1</td>\n",
       "      <td>0.685146</td>\n",
       "      <td>[-1]</td>\n",
       "      <td>['while']</td>\n",
       "      <td>1</td>\n",
       "    </tr>\n",
       "    <tr>\n",
       "      <th>4</th>\n",
       "      <td>Game1-italy-germany-4</td>\n",
       "      <td>89</td>\n",
       "      <td>Yeah, I can’t say I’ve tried it and it works, ...</td>\n",
       "      <td>italy-Game1</td>\n",
       "      <td>Game1-italy-germany-3</td>\n",
       "      <td>Game1-italy-germany</td>\n",
       "      <td>Truth</td>\n",
       "      <td>NaN</td>\n",
       "      <td>germany-Game1</td>\n",
       "      <td>89</td>\n",
       "      <td>...</td>\n",
       "      <td>0</td>\n",
       "      <td>Unknown</td>\n",
       "      <td>[{'rt': 5, 'toks': [{'tok': 'yeah', 'tag': 'UH...</td>\n",
       "      <td>{'feature_politeness_==Please==': 0, 'feature_...</td>\n",
       "      <td>{'politeness_markers_==Please==': [], 'politen...</td>\n",
       "      <td>0</td>\n",
       "      <td>0.171131</td>\n",
       "      <td>[-1, -1, 0, 0, 0, -1, 1, 1]</td>\n",
       "      <td>['before']</td>\n",
       "      <td>1</td>\n",
       "    </tr>\n",
       "  </tbody>\n",
       "</table>\n",
       "<p>5 rows × 23 columns</p>\n",
       "</div>"
      ],
      "text/plain": [
       "                      id  timestamp  \\\n",
       "0  Game1-italy-germany-0         74   \n",
       "1  Game1-italy-germany-1         76   \n",
       "2  Game1-italy-germany-2         86   \n",
       "3  Game1-italy-germany-3         87   \n",
       "4  Game1-italy-germany-4         89   \n",
       "\n",
       "                                                text        speaker  \\\n",
       "0  Germany!\\n\\nJust the person I want to speak wi...    italy-Game1   \n",
       "1  You've whet my appetite, Italy. What's the sug...  germany-Game1   \n",
       "2                                                  👍    italy-Game1   \n",
       "3  It seems like there are a lot of ways that cou...  germany-Game1   \n",
       "4  Yeah, I can’t say I’ve tried it and it works, ...    italy-Game1   \n",
       "\n",
       "                reply_to      conversation_id meta.speaker_intention  \\\n",
       "0                    NaN  Game1-italy-germany                  Truth   \n",
       "1  Game1-italy-germany-0  Game1-italy-germany                  Truth   \n",
       "2  Game1-italy-germany-1  Game1-italy-germany                  Truth   \n",
       "3  Game1-italy-germany-2  Game1-italy-germany                  Truth   \n",
       "4  Game1-italy-germany-3  Game1-italy-germany                  Truth   \n",
       "\n",
       "  meta.receiver_perception  meta.receiver  meta.absolute_message_index  ...  \\\n",
       "0                    Truth  germany-Game1                           74  ...   \n",
       "1                    Truth    italy-Game1                           76  ...   \n",
       "2                    Truth  germany-Game1                           86  ...   \n",
       "3                    Truth    italy-Game1                           87  ...   \n",
       "4                      NaN  germany-Game1                           89  ...   \n",
       "\n",
       "   meta.game_score_delta  meta.deception_quadrant  \\\n",
       "0                      0          Straightforward   \n",
       "1                      0          Straightforward   \n",
       "2                      0          Straightforward   \n",
       "3                      0          Straightforward   \n",
       "4                      0                  Unknown   \n",
       "\n",
       "                                         meta.parsed  \\\n",
       "0  [{'rt': 0, 'toks': [{'tok': 'germany', 'tag': ...   \n",
       "1  [{'rt': 2, 'toks': [{'tok': 'you', 'tag': 'PRP...   \n",
       "2  [{'rt': 0, 'toks': [{'tok': '👍', 'tag': 'JJ', ...   \n",
       "3  [{'rt': 1, 'toks': [{'tok': 'it', 'tag': 'PRP'...   \n",
       "4  [{'rt': 5, 'toks': [{'tok': 'yeah', 'tag': 'UH...   \n",
       "\n",
       "                          meta.politeness_strategies  \\\n",
       "0  {'feature_politeness_==Please==': 0, 'feature_...   \n",
       "1  {'feature_politeness_==Please==': 0, 'feature_...   \n",
       "2  {'feature_politeness_==Please==': 0, 'feature_...   \n",
       "3  {'feature_politeness_==Please==': 0, 'feature_...   \n",
       "4  {'feature_politeness_==Please==': 0, 'feature_...   \n",
       "\n",
       "                             meta.politeness_markers meta.prediction  \\\n",
       "0  {'politeness_markers_==Please==': [], 'politen...               0   \n",
       "1  {'politeness_markers_==Please==': [], 'politen...               0   \n",
       "2  {'politeness_markers_==Please==': [], 'politen...               0   \n",
       "3  {'politeness_markers_==Please==': [], 'politen...               1   \n",
       "4  {'politeness_markers_==Please==': [], 'politen...               0   \n",
       "\n",
       "  meta.pred_score                    sentiment  discourse_markers  \\\n",
       "0        0.112246   [0, 0, -1, -1, 0, 0, 1, 0]                 []   \n",
       "1        0.107987                       [0, 0]                 []   \n",
       "2        0.220636                          [0]                 []   \n",
       "3        0.685146                         [-1]          ['while']   \n",
       "4        0.171131  [-1, -1, 0, 0, 0, -1, 1, 1]         ['before']   \n",
       "\n",
       "   discourse_number  \n",
       "0                 0  \n",
       "1                 0  \n",
       "2                 0  \n",
       "3                 1  \n",
       "4                 1  \n",
       "\n",
       "[5 rows x 23 columns]"
      ]
     },
     "execution_count": 2,
     "metadata": {},
     "output_type": "execute_result"
    }
   ],
   "source": [
    "#Importing the two datasets into dataframes\n",
    "with open(\"diplomacy_data.json\", \"r\") as file:\n",
    "    diplomacy = json.load(file)\n",
    "old_data = pd.DataFrame(diplomacy)\n",
    "data = pd.read_csv(\"final_data.csv\")\n",
    "data.head()"
   ]
  },
  {
   "cell_type": "markdown",
   "metadata": {},
   "source": [
    "In this new data frame, each row is a message. The important features are :\n",
    "- conversation_id : a string indicating the two players interacting and the corresponding game\n",
    "- speaker : the player sending the message\n",
    "- meta.speaker_intention : Truth or Lie (whether the player is lying or not, annotated by the player)\n",
    "- meta.receiver_perception : Truth or Lie (whether the other player thinks s/he is being lied to, annotated by the player)\n",
    "- meta.deception_quadrant : Straightforward if a Truth is perceived as Truth ; Cassandra is a Truth is perceived as Lie ; Deceived if a Lie is perceived as a Truth ; Caught if a Lie is perceived as a Lie ; Unknown if there is a NaN.\n",
    "- meta.pred_score : the politeness score of the message\n",
    "- sentiment : an array containing 0, -1 or 1 for each sentence of the message. 0 is neutral, -1 negative sentiment, 1 positive.\n",
    "- discourse_number : the number of discourse markers in the message\n",
    "- year : integer representing the in-game year of the event, therefore aggregating the two seasons per year. (In the original data set, years could be either integers or a year and a half)."
   ]
  },
  {
   "cell_type": "markdown",
   "metadata": {},
   "source": [
    "We define a cool palette of colors for our plots :"
   ]
  },
  {
   "cell_type": "code",
   "execution_count": 3,
   "metadata": {},
   "outputs": [],
   "source": [
    "coolors = {\"Black\":[12/256,15/256,10/256],\n",
    " \"Green\":[21/256,113/256,69/256], #dark green\n",
    " \"Emerald\":[90/256,200/256,120/256], #light green\n",
    " \"Red\":[256/256,60/256,50/256], #light red\n",
    " \"Burgundy\":[165/256,36/256,61/256]} #dark red"
   ]
  },
  {
   "cell_type": "markdown",
   "metadata": {},
   "source": [
    "# Original dataset\n",
    "## Reproducing the figures from the paper"
   ]
  },
  {
   "cell_type": "code",
   "execution_count": 4,
   "metadata": {},
   "outputs": [],
   "source": [
    "def last_support(seasons):\n",
    "    \"\"\"return the last season where a player supported the other\"\"\"\n",
    "    for season in seasons: #iterate over each season in a relationship\n",
    "        if 'support' in season['interaction'].values(): #if the word \"support\" is in the values of interaction then -->\n",
    "            support = season['season'] # add the number of the season to supp_season \n",
    "        \n",
    "    return support #return the last support season (e.g 1908.5)"
   ]
  },
  {
   "cell_type": "code",
   "execution_count": 5,
   "metadata": {},
   "outputs": [],
   "source": [
    "def message_politeness(messages):\n",
    "    \"\"\"return the average politeness score for a particular player in a season\"\"\"\n",
    "    if len(messages)!=0:\n",
    "        return sum(m['politeness'] for m in messages)/len(messages)\n",
    "    else:\n",
    "        return 0\n",
    "\n",
    "def message_sentiment(messages):\n",
    "    \"\"\"return positive sentiment average per sentence\"\"\"\n",
    "    if len(messages)!=0:\n",
    "        return sum(m['sentiment']['positive']/m['n_sentences'] if m['n_sentences']!=0 else 0  for m in messages)/len(messages)\n",
    "    else:\n",
    "        return 0\n",
    "\n",
    "def message_discourse(messages):\n",
    "    \"\"\"return the average number of discourse markers per sentence\"\"\"\n",
    "    n_sents = sum(m['n_sentences'] for m in messages) * 1.0\n",
    "    if n_sents !=0:\n",
    "        return sum(len(m['lexicon_words'].get(\"disc_temporal_future\", [])) for m in messages) / n_sents\n",
    "    else :\n",
    "        return 0"
   ]
  },
  {
   "cell_type": "code",
   "execution_count": 6,
   "metadata": {},
   "outputs": [],
   "source": [
    "def add_line(data,politeness,discourse,sentiment,relationship,player = None ,imbalance = True):\n",
    "    \"\"\"if imbalance is false add a line to the  plotting_data dataset with respective politeness player type and relationship ending\n",
    "       if imbalance is true add a line to the imbalance data set with only relationship and score\"\"\"\n",
    "    if imbalance:\n",
    "        data.append({'imbalance':'','imbalance politeness':politeness,'imbalance discourse':discourse,'imbalance sentiment':sentiment,'relationship':relationship})\n",
    "    else:\n",
    "        data.append({'Politeness Score':politeness,'Discourse Score':discourse,'Sentiment Score':sentiment,'Player':player,'relationship':relationship})\n",
    "        "
   ]
  },
  {
   "cell_type": "markdown",
   "metadata": {},
   "source": [
    "With the functions defined above, we build the dataframe tha we will use to reproduce the 3 panels of the Fig 3 of the paper."
   ]
  },
  {
   "cell_type": "code",
   "execution_count": 7,
   "metadata": {},
   "outputs": [],
   "source": [
    "plotting_data = [] \n",
    "imbalance_data = []\n",
    "\n",
    "for index,row in old_data.iterrows(): #iterate over the rows of the dataframe\n",
    "    \n",
    "    seasons = row.seasons #define the seasons (see dataframe.head() above)\n",
    "    last_supp = last_support(seasons) #find the season of the last support \n",
    "    \n",
    "    for season in seasons: #iterate over each season \n",
    "        \n",
    "        # check if the two players had an interaction in every single season\n",
    "        if len(season['messages']['betrayer']) > 0 and len(season['messages']['victim']) > 0: \n",
    "            \n",
    "            polite_betray = message_politeness(season['messages']['betrayer']) #calculate politeness for betrayer\n",
    "            polite_vict = message_politeness(season['messages']['victim']) #calculate politeness for victim\n",
    "            disc_betray = message_discourse(season['messages']['betrayer']) #calculate politeness for betrayer\n",
    "            disc_vict = message_discourse(season['messages']['victim']) #calculate politeness for victim\n",
    "            sent_betray = message_sentiment(season['messages']['betrayer']) #calculate politeness for betrayer\n",
    "            sent_vict = message_sentiment(season['messages']['victim']) #calculate politeness for victim\n",
    "            #if there is a betrayal take only politeness until last support season \n",
    "            if row.betrayal==True and season['season']<=last_supp: \n",
    "                \n",
    "                #append dictionnaries corresponding to all 3 where there is betrayal\n",
    "                add_line(plotting_data,polite_betray,disc_betray,sent_betray,'betrayal','betrayer',False)\n",
    "                add_line(plotting_data,polite_vict,disc_vict,sent_vict,'betrayal','victim',False)\n",
    "                add_line(imbalance_data,polite_betray-polite_vict,disc_betray-disc_vict,sent_betray-sent_vict,'betrayal')\n",
    "\n",
    "            if row.betrayal== False: \n",
    "\n",
    "                #append dictionnaries corresponding to all 3 where there is  no betrayal             \n",
    "                add_line(plotting_data,polite_betray,disc_betray,sent_betray,'no betrayal','betrayer',False)\n",
    "                add_line(plotting_data,polite_vict,disc_vict,sent_vict,'no betrayal','victim',False)\n",
    "                add_line(imbalance_data,polite_betray-polite_vict,disc_betray-disc_vict,sent_betray-sent_vict,'no betrayal')\n"
   ]
  },
  {
   "cell_type": "code",
   "execution_count": 8,
   "metadata": {},
   "outputs": [
    {
     "data": {
      "text/html": [
       "<div>\n",
       "<style scoped>\n",
       "    .dataframe tbody tr th:only-of-type {\n",
       "        vertical-align: middle;\n",
       "    }\n",
       "\n",
       "    .dataframe tbody tr th {\n",
       "        vertical-align: top;\n",
       "    }\n",
       "\n",
       "    .dataframe thead th {\n",
       "        text-align: right;\n",
       "    }\n",
       "</style>\n",
       "<table border=\"1\" class=\"dataframe\">\n",
       "  <thead>\n",
       "    <tr style=\"text-align: right;\">\n",
       "      <th></th>\n",
       "      <th>Politeness Score</th>\n",
       "      <th>Discourse Score</th>\n",
       "      <th>Sentiment Score</th>\n",
       "      <th>Player</th>\n",
       "      <th>relationship</th>\n",
       "    </tr>\n",
       "  </thead>\n",
       "  <tbody>\n",
       "    <tr>\n",
       "      <th>0</th>\n",
       "      <td>0.803328</td>\n",
       "      <td>0.120000</td>\n",
       "      <td>0.396296</td>\n",
       "      <td>betrayer</td>\n",
       "      <td>betrayal</td>\n",
       "    </tr>\n",
       "    <tr>\n",
       "      <th>1</th>\n",
       "      <td>0.809993</td>\n",
       "      <td>0.129032</td>\n",
       "      <td>0.156798</td>\n",
       "      <td>victim</td>\n",
       "      <td>betrayal</td>\n",
       "    </tr>\n",
       "    <tr>\n",
       "      <th>2</th>\n",
       "      <td>0.560083</td>\n",
       "      <td>0.125000</td>\n",
       "      <td>0.071429</td>\n",
       "      <td>betrayer</td>\n",
       "      <td>betrayal</td>\n",
       "    </tr>\n",
       "    <tr>\n",
       "      <th>3</th>\n",
       "      <td>0.785508</td>\n",
       "      <td>0.000000</td>\n",
       "      <td>0.361111</td>\n",
       "      <td>victim</td>\n",
       "      <td>betrayal</td>\n",
       "    </tr>\n",
       "    <tr>\n",
       "      <th>4</th>\n",
       "      <td>0.982703</td>\n",
       "      <td>0.307692</td>\n",
       "      <td>0.291667</td>\n",
       "      <td>betrayer</td>\n",
       "      <td>betrayal</td>\n",
       "    </tr>\n",
       "  </tbody>\n",
       "</table>\n",
       "</div>"
      ],
      "text/plain": [
       "   Politeness Score  Discourse Score  Sentiment Score    Player relationship\n",
       "0          0.803328         0.120000         0.396296  betrayer     betrayal\n",
       "1          0.809993         0.129032         0.156798    victim     betrayal\n",
       "2          0.560083         0.125000         0.071429  betrayer     betrayal\n",
       "3          0.785508         0.000000         0.361111    victim     betrayal\n",
       "4          0.982703         0.307692         0.291667  betrayer     betrayal"
      ]
     },
     "execution_count": 8,
     "metadata": {},
     "output_type": "execute_result"
    }
   ],
   "source": [
    "plotting_data = pd.DataFrame(plotting_data) #convert to DataFrame for plotting (easier to plot using seaborn)\n",
    "imbalance_data = pd.DataFrame(imbalance_data) #convert to DataFram for plotting (easier to plot using seaborn)\n",
    "plotting_data.head()"
   ]
  },
  {
   "cell_type": "code",
   "execution_count": 9,
   "metadata": {},
   "outputs": [
    {
     "data": {
      "image/png": "[encoded data removed]",
      "text/plain": [
       "<Figure size 2880x720 with 6 Axes>"
      ]
     },
     "metadata": {
      "needs_background": "light"
     },
     "output_type": "display_data"
    }
   ],
   "source": [
    "colors = {'no betrayal' : (1,1,1,0),'betrayal' :coolors[\"Burgundy\"]} #Set color palette\n",
    "fig, axs = plt.subplots(1,6, gridspec_kw={'width_ratios': [2,5,2,5,2,5]}, figsize = (40,10)) #set figure size and subplots\n",
    "#plot the right graph with bootstrap confidence interval of 68 percent with represents mean +- 1 std \n",
    "sns.barplot(x = 'Player',y='Politeness Score',hue = 'relationship',data=plotting_data,ax = axs[5],\n",
    "            hue_order = [\"no betrayal\", \"betrayal\"],ci = 68,capsize = 0.03,\n",
    "            linewidth=2, errwidth = 2,errcolor=\".2\", edgecolor=\".1\", palette = colors)\n",
    "axs[5].set(ylim=(0.6,0.7)) #set y limits for better viewing \n",
    "\n",
    "#plot the left graph with bootstrap confidence interval of 68 percent with represents mean +- 1 std \n",
    "sns.barplot(x = 'imbalance',y = 'imbalance politeness', hue = \"relationship\", data = imbalance_data, ax= axs[4],hue_order = [\"no betrayal\", \"betrayal\"], ci = 68, \n",
    "            capsize = 0.03, linewidth=2,errwidth = 2,errcolor=\".2\", edgecolor=\".2\", palette = colors)\n",
    "          \n",
    "axs[4].get_legend().remove() #remove the legend of the left graph because already on the right one \n",
    "axs[4].set(ylim=(-0.04,0.04)) #set y limit for better viewing \n",
    "\n",
    "sns.barplot(x = 'Player',y='Discourse Score',hue = 'relationship',data=plotting_data,ax = axs[3],\n",
    "            hue_order = [\"no betrayal\", \"betrayal\"],ci = 68,capsize = 0.03,\n",
    "            linewidth=2, errwidth = 2,errcolor=\".2\", edgecolor=\".1\", palette = colors)\n",
    "#axs[1].set(ylim=(0.6,0.7)) #set y limits for better viewing \n",
    "\n",
    "#plot the left graph with bootstrap confidence interval of 68 percent with represents mean +- 1 std \n",
    "sns.barplot(x = 'imbalance',y = 'imbalance discourse', hue = \"relationship\", data = imbalance_data, ax= axs[2],hue_order = [\"no betrayal\", \"betrayal\"], ci = 68, \n",
    "            capsize = 0.03, linewidth=2,errwidth = 2,errcolor=\".2\", edgecolor=\".2\", palette = colors)\n",
    "          \n",
    "axs[2].get_legend().remove() #remove the legend of the left graph because already on the right one \n",
    "axs[2].set(ylim=(-0.04,0.04)) #set y limit for better viewing \n",
    "\n",
    "sns.barplot(x = 'Player',y='Sentiment Score',hue = 'relationship',data=plotting_data,ax = axs[1],\n",
    "            hue_order = [\"no betrayal\", \"betrayal\"],ci = 68,capsize = 0.03,\n",
    "            linewidth=2, errwidth = 2,errcolor=\".2\", edgecolor=\".1\", palette = colors) \n",
    "\n",
    "#plot the left graph with bootstrap confidence interval of 68 percent with represents mean +- 1 std \n",
    "sns.barplot(x = 'imbalance',y = 'imbalance sentiment', hue = \"relationship\", data = imbalance_data, ax= axs[0],hue_order = [\"no betrayal\", \"betrayal\"], ci = 68, \n",
    "            capsize = 0.03, linewidth=2,errwidth = 2,errcolor=\".2\", edgecolor=\".2\", palette = colors)\n",
    "          \n",
    "axs[0].get_legend().remove() #remove the legend of the left graph because already on the right one \n",
    "axs[0].set(ylim=(-0.04,0.04)) #set y limit for better viewing \n",
    "#Add general title and save\n",
    "plt.savefig('all.png')"
   ]
  },
  {
   "cell_type": "markdown",
   "metadata": {},
   "source": [
    "## Extracting data to build a classifier\n",
    "Now, we try to train a logistic regression on the original data to predict whether a given season belongs to a relationship that will end up in betrayal or not. We extract the data into a convenient dataframe for this task :"
   ]
  },
  {
   "cell_type": "code",
   "execution_count": 10,
   "metadata": {},
   "outputs": [],
   "source": [
    "def extract_stats_season(player, season):\n",
    "    \"\"\"returns average politeness, sentiment and discourse scores for a season and a given player (betrayer or victim)\"\"\"\n",
    "    messages = season['messages'][player]\n",
    "    return message_politeness(messages),message_sentiment(messages),message_discourse(messages)"
   ]
  },
  {
   "cell_type": "code",
   "execution_count": 11,
   "metadata": {},
   "outputs": [],
   "source": [
    "def extract_old_seasons(betrayal, data):\n",
    "    \"\"\"returns a data set where each row is a season, including the relation id, status (betrayal or not) and length, \n",
    "    and the stats for each player\"\"\"\n",
    "    idx, b, length, pol_v, pol_b, disc_v, disc_b, sent_v, sent_b = [],[],[],[],[],[],[],[],[]\n",
    "    index = data.index\n",
    "    i = 0\n",
    "    for rel in data:\n",
    "        for season in rel:\n",
    "            idx.append(index[i])\n",
    "            b.append(betrayal)\n",
    "            length.append(len(rel))\n",
    "            pol_v_temp, disc_v_temp, sent_v_temp = extract_stats_season('victim', season)\n",
    "            pol_b_temp, disc_b_temp, sent_b_temp = extract_stats_season('betrayer', season)\n",
    "            pol_v.append(pol_v_temp)\n",
    "            pol_b.append(pol_b_temp)\n",
    "            disc_v.append(disc_v_temp)\n",
    "            disc_b.append(disc_b_temp)\n",
    "            sent_v.append(sent_v_temp)\n",
    "            sent_b.append(sent_b_temp)\n",
    "        i +=1\n",
    "    old_seasons = pd.DataFrame({'ID':idx,'Length':length, 'Politeness victim':pol_v,'Politeness betrayer':pol_b,\n",
    "                                'Discourse victim': disc_v, 'Discourse betrayer':disc_b, 'Sentiment victim':sent_v, \n",
    "                                'Sentiment betrayer': sent_b, 'Betrayal': b})\n",
    "    return old_seasons"
   ]
  },
  {
   "cell_type": "code",
   "execution_count": 12,
   "metadata": {},
   "outputs": [],
   "source": [
    "betrayals = old_data[old_data['betrayal'] == True]['seasons']\n",
    "lasting = old_data[old_data['betrayal'] == False]['seasons']"
   ]
  },
  {
   "cell_type": "code",
   "execution_count": 13,
   "metadata": {},
   "outputs": [
    {
     "data": {
      "text/html": [
       "<div>\n",
       "<style scoped>\n",
       "    .dataframe tbody tr th:only-of-type {\n",
       "        vertical-align: middle;\n",
       "    }\n",
       "\n",
       "    .dataframe tbody tr th {\n",
       "        vertical-align: top;\n",
       "    }\n",
       "\n",
       "    .dataframe thead th {\n",
       "        text-align: right;\n",
       "    }\n",
       "</style>\n",
       "<table border=\"1\" class=\"dataframe\">\n",
       "  <thead>\n",
       "    <tr style=\"text-align: right;\">\n",
       "      <th></th>\n",
       "      <th>ID</th>\n",
       "      <th>Length</th>\n",
       "      <th>Politeness victim</th>\n",
       "      <th>Politeness betrayer</th>\n",
       "      <th>Discourse victim</th>\n",
       "      <th>Discourse betrayer</th>\n",
       "      <th>Sentiment victim</th>\n",
       "      <th>Sentiment betrayer</th>\n",
       "      <th>Betrayal</th>\n",
       "    </tr>\n",
       "  </thead>\n",
       "  <tbody>\n",
       "    <tr>\n",
       "      <th>0</th>\n",
       "      <td>0</td>\n",
       "      <td>8</td>\n",
       "      <td>0.809993</td>\n",
       "      <td>0.803328</td>\n",
       "      <td>0.156798</td>\n",
       "      <td>0.396296</td>\n",
       "      <td>0.129032</td>\n",
       "      <td>0.120000</td>\n",
       "      <td>True</td>\n",
       "    </tr>\n",
       "    <tr>\n",
       "      <th>1</th>\n",
       "      <td>0</td>\n",
       "      <td>8</td>\n",
       "      <td>0.785508</td>\n",
       "      <td>0.560083</td>\n",
       "      <td>0.361111</td>\n",
       "      <td>0.071429</td>\n",
       "      <td>0.000000</td>\n",
       "      <td>0.125000</td>\n",
       "      <td>True</td>\n",
       "    </tr>\n",
       "    <tr>\n",
       "      <th>2</th>\n",
       "      <td>0</td>\n",
       "      <td>8</td>\n",
       "      <td>0.607331</td>\n",
       "      <td>0.982703</td>\n",
       "      <td>0.041667</td>\n",
       "      <td>0.291667</td>\n",
       "      <td>0.035714</td>\n",
       "      <td>0.307692</td>\n",
       "      <td>True</td>\n",
       "    </tr>\n",
       "    <tr>\n",
       "      <th>3</th>\n",
       "      <td>0</td>\n",
       "      <td>8</td>\n",
       "      <td>0.571134</td>\n",
       "      <td>0.748802</td>\n",
       "      <td>0.250000</td>\n",
       "      <td>0.616667</td>\n",
       "      <td>0.333333</td>\n",
       "      <td>0.208333</td>\n",
       "      <td>True</td>\n",
       "    </tr>\n",
       "    <tr>\n",
       "      <th>4</th>\n",
       "      <td>0</td>\n",
       "      <td>8</td>\n",
       "      <td>0.563423</td>\n",
       "      <td>0.899161</td>\n",
       "      <td>0.083333</td>\n",
       "      <td>0.250000</td>\n",
       "      <td>0.133333</td>\n",
       "      <td>0.166667</td>\n",
       "      <td>True</td>\n",
       "    </tr>\n",
       "  </tbody>\n",
       "</table>\n",
       "</div>"
      ],
      "text/plain": [
       "   ID  Length  Politeness victim  Politeness betrayer  Discourse victim  \\\n",
       "0   0       8           0.809993             0.803328          0.156798   \n",
       "1   0       8           0.785508             0.560083          0.361111   \n",
       "2   0       8           0.607331             0.982703          0.041667   \n",
       "3   0       8           0.571134             0.748802          0.250000   \n",
       "4   0       8           0.563423             0.899161          0.083333   \n",
       "\n",
       "   Discourse betrayer  Sentiment victim  Sentiment betrayer  Betrayal  \n",
       "0            0.396296          0.129032            0.120000      True  \n",
       "1            0.071429          0.000000            0.125000      True  \n",
       "2            0.291667          0.035714            0.307692      True  \n",
       "3            0.616667          0.333333            0.208333      True  \n",
       "4            0.250000          0.133333            0.166667      True  "
      ]
     },
     "execution_count": 13,
     "metadata": {},
     "output_type": "execute_result"
    }
   ],
   "source": [
    "old_seasons_b = extract_old_seasons(True, betrayals)\n",
    "old_seasons_l = extract_old_seasons(False, lasting)\n",
    "old_seasons = pd.concat([old_seasons_b, old_seasons_l], ignore_index = True)\n",
    "old_seasons.head()"
   ]
  },
  {
   "cell_type": "markdown",
   "metadata": {},
   "source": [
    "## Classification by season"
   ]
  },
  {
   "cell_type": "markdown",
   "metadata": {},
   "source": [
    "We train a logistic regression model and validate it using 5-fold cross validation, using as features the ones that are available in our new data set : politeness, discourse and sentiment for both players."
   ]
  },
  {
   "cell_type": "code",
   "execution_count": 14,
   "metadata": {},
   "outputs": [],
   "source": [
    "def build_k_indices(y, k_fold, seed):\n",
    "    \"\"\"build k indices for k-fold.\"\"\"\n",
    "    num_row = y.shape[0]\n",
    "    interval = int(num_row / k_fold)\n",
    "    np.random.seed(seed)\n",
    "    indices = np.random.permutation(num_row)\n",
    "    k_indices = [indices[k * interval: (k + 1) * interval] for k in range(k_fold)]\n",
    "    return np.array(k_indices)"
   ]
  },
  {
   "cell_type": "code",
   "execution_count": 15,
   "metadata": {
    "scrolled": false
   },
   "outputs": [
    {
     "name": "stdout",
     "output_type": "stream",
     "text": [
      "Optimization terminated successfully.\n",
      "         Current function value: 0.691915\n",
      "         Iterations 4\n",
      "Optimization terminated successfully.\n",
      "         Current function value: 0.690292\n",
      "         Iterations 4\n",
      "Optimization terminated successfully.\n",
      "         Current function value: 0.690025\n",
      "         Iterations 4\n",
      "Optimization terminated successfully.\n",
      "         Current function value: 0.690553\n",
      "         Iterations 4\n",
      "Optimization terminated successfully.\n",
      "         Current function value: 0.691396\n",
      "         Iterations 4\n"
     ]
    },
    {
     "name": "stderr",
     "output_type": "stream",
     "text": [
      "C:\\Users\\clara\\Anaconda3\\lib\\site-packages\\sklearn\\metrics\\classification.py:872: RuntimeWarning: invalid value encountered in double_scalars\n",
      "  mcc = cov_ytyp / np.sqrt(cov_ytyt * cov_ypyp)\n",
      "C:\\Users\\clara\\Anaconda3\\lib\\site-packages\\sklearn\\metrics\\classification.py:872: RuntimeWarning: invalid value encountered in double_scalars\n",
      "  mcc = cov_ytyp / np.sqrt(cov_ytyt * cov_ypyp)\n",
      "C:\\Users\\clara\\Anaconda3\\lib\\site-packages\\sklearn\\metrics\\classification.py:872: RuntimeWarning: invalid value encountered in double_scalars\n",
      "  mcc = cov_ytyp / np.sqrt(cov_ytyt * cov_ypyp)\n"
     ]
    }
   ],
   "source": [
    "k_fold = 5\n",
    "acc = []\n",
    "matt = []\n",
    "y = old_seasons[\"Betrayal\"]\n",
    "features= [\"Politeness victim\",\"Politeness betrayer\", \"Discourse victim\", \"Discourse betrayer\", \n",
    "           \"Sentiment victim\", \"Sentiment betrayer\"]\n",
    "x = old_seasons[features] \n",
    "seed = 4\n",
    "k_indices = build_k_indices(y, k_fold, seed)\n",
    "for k in range(k_fold):\n",
    "    te_indice = k_indices[k]\n",
    "    tr_indice = k_indices[~(np.arange(k_indices.shape[0]) == k)]\n",
    "    tr_indice = tr_indice.reshape(-1)\n",
    "    y_te = y[te_indice]\n",
    "    y_tr = y[tr_indice]\n",
    "    x_te = x.loc[te_indice]\n",
    "    x_te[\"const\"] = [1 for i in range(x_te.shape[0])]\n",
    "    x_tr = x.loc[tr_indice]\n",
    "    log_reg = sm.Logit(y_tr, sm.add_constant(x_tr)).fit()#fit_regularized(method=\"l1\")\n",
    "    predictions = log_reg.predict(x_te)\n",
    "    results = []\n",
    "    for i in predictions.index:\n",
    "        if predictions[i] < 0.5 :\n",
    "            results.append(False)\n",
    "        else :\n",
    "            results.append(True)\n",
    "    acc.append(np.where(y_te == results)[0].shape[0]/len(results))\n",
    "    results = np.array(results)\n",
    "    y_true = np.where(y_te == True, 1, 0)\n",
    "    y_test = np.where(results == True, 1, 0)\n",
    "    matt.append(matthews_corrcoef(y_true, y_test))\n",
    "avg_acc = np.mean(np.array(acc))\n",
    "avg_matt = np.mean(np.array(matt))"
   ]
  },
  {
   "cell_type": "code",
   "execution_count": 16,
   "metadata": {},
   "outputs": [
    {
     "name": "stdout",
     "output_type": "stream",
     "text": [
      "Accuracy: 0.5009118541033435 Matthews: 0.015365876759723913\n"
     ]
    }
   ],
   "source": [
    "print(\"Accuracy:\", avg_acc, \"Matthews:\", avg_matt)"
   ]
  },
  {
   "cell_type": "markdown",
   "metadata": {},
   "source": [
    "On average over the steps of cross validation, we obtain an accuracy of 50,1% and a Matthews correlation coefficient of 0.015. This shows that the model is very weak and basically picks the betrayals at random. (But note that the politeness of the victim and the planning discourse score of the betrayer is systematically found to be significant with a 5% threshold)."
   ]
  },
  {
   "cell_type": "markdown",
   "metadata": {},
   "source": [
    "# New data\n",
    "## Extract data for classification\n",
    "Here, we build a dataframe with the same structure but for the new data, and assign roles (betrayer or victim) based on the average politeness of the players, since the betrayer tends to be more polite in case of betrayal, and there is no significant imbalance when there is no betrayal."
   ]
  },
  {
   "cell_type": "code",
   "execution_count": 17,
   "metadata": {},
   "outputs": [],
   "source": [
    "def extract_new_seasons(data, roles):\n",
    "    \"\"\"returns a dataframe where each row is a season (year), containing the id and length or the corresponding relation,\n",
    "    the stats of each player and the roles assigned to each player (betrayer or victim)\"\"\"\n",
    "    rand.seed(8)\n",
    "    idx, length, pol_v, pol_b, disc_v, disc_b, sent_v, sent_b, betrayers, victims, season_id = [],[],[],[],[],[],[],[],[],[],[]\n",
    "    for r in set(data[\"conversation_id\"]):\n",
    "        rel = data[data[\"conversation_id\"] == r]\n",
    "        l = rel[\"meta.year\"].max()-rel[\"meta.year\"].min()+1\n",
    "        players = list(set(rel[\"speaker\"]))\n",
    "        if len(players) == 2 :\n",
    "            v = roles[roles['ID'] == r]['Victim'].values[0]\n",
    "            b = roles[roles['ID'] == r]['Betrayer'].values[0]\n",
    "            for y in set(rel[\"meta.year\"]):\n",
    "                season = rel[rel[\"meta.year\"] == y]\n",
    "                if len(list(set(season[\"speaker\"]))) == 2:\n",
    "                    season_id.append(rel[\"meta.year\"].max()-y)\n",
    "                    idx.append(r)\n",
    "                    length.append(l)\n",
    "                    pol_v.append(season[season[\"speaker\"]==v][\"meta.pred_score\"].mean())\n",
    "                    pol_b.append(season[season[\"speaker\"]==b][\"meta.pred_score\"].mean())\n",
    "                    disc_v.append(season[season[\"speaker\"]==v][\"discourse_score\"].mean())\n",
    "                    disc_b.append(season[season[\"speaker\"]==b][\"discourse_score\"].mean())\n",
    "                    sent_v.append(season[season[\"speaker\"]==v][\"sentiment_score\"].mean()) \n",
    "                    sent_b.append(season[season[\"speaker\"]==b][\"sentiment_score\"].mean())\n",
    "\n",
    "    new_data = pd.DataFrame({'ID':idx,'Length':length, 'Politeness victim':pol_v,'Politeness betrayer':pol_b,\n",
    "                                'Discourse victim': disc_v, 'Discourse betrayer':disc_b, 'Sentiment victim':sent_v, \n",
    "                                'Sentiment betrayer': sent_b, 'Season countdown':season_id})\n",
    "    return new_data"
   ]
  },
  {
   "cell_type": "code",
   "execution_count": 18,
   "metadata": {},
   "outputs": [],
   "source": [
    "def choose_roles(new_data):\n",
    "    \"\"\"choose roles for the players based on their average politeness\"\"\"\n",
    "    idx, vic, bet = [],[],[]\n",
    "    for pair in set(new_data['conversation_id']):\n",
    "        rel = new_data[new_data['conversation_id']==pair]\n",
    "        players = list(set(rel['speaker']))\n",
    "        if len(players) == 2 :\n",
    "            idx.append(pair)\n",
    "            if rel[rel[\"speaker\"] == players[0]][\"meta.pred_score\"].mean() > rel[rel[\"speaker\"] == players[1]][\"meta.pred_score\"].mean():\n",
    "                bet.append(players[0])\n",
    "                vic.append(players[1])\n",
    "            else :\n",
    "                bet.append(players[1])\n",
    "                vic.append(players[0])\n",
    "    roles = pd.DataFrame({\"ID\":idx, \"Betrayer\":bet, \"Victim\":vic})\n",
    "    return roles    "
   ]
  },
  {
   "cell_type": "markdown",
   "metadata": {},
   "source": [
    "We compute the sentiment score as the percentage of sentences where the sentiment is positive (as in the paper),  by adding the \"nb_sentences\" feature to the dataframe (length of the sentiment array). We also compute the discourse score by dividing the number of discourse markers by the number of sentences, so we get the average number of markers per sentence."
   ]
  },
  {
   "cell_type": "code",
   "execution_count": 19,
   "metadata": {},
   "outputs": [],
   "source": [
    "data['sentiment'].fillna('[]',inplace = True )\n",
    "data[\"sentiment\"] = [ast.literal_eval(data[\"sentiment\"][i]) for i in range(data.shape[0])]\n",
    "data[\"nb_sentences\"] = [len(data[\"sentiment\"][i]) for i in range(data.shape[0])]\n",
    "data = data[data[\"nb_sentences\"]>0]"
   ]
  },
  {
   "cell_type": "code",
   "execution_count": 20,
   "metadata": {},
   "outputs": [],
   "source": [
    "data[\"discourse_score\"] = data[\"discourse_number\"]/data[\"nb_sentences\"]\n",
    "data[\"sentiment_score\"] = [data[\"sentiment\"][i].count(1)/data[\"nb_sentences\"][i] for i in data.index]"
   ]
  },
  {
   "cell_type": "code",
   "execution_count": 21,
   "metadata": {
    "scrolled": false
   },
   "outputs": [],
   "source": [
    "roles = choose_roles(data)"
   ]
  },
  {
   "cell_type": "code",
   "execution_count": 22,
   "metadata": {},
   "outputs": [
    {
     "data": {
      "text/html": [
       "<div>\n",
       "<style scoped>\n",
       "    .dataframe tbody tr th:only-of-type {\n",
       "        vertical-align: middle;\n",
       "    }\n",
       "\n",
       "    .dataframe tbody tr th {\n",
       "        vertical-align: top;\n",
       "    }\n",
       "\n",
       "    .dataframe thead th {\n",
       "        text-align: right;\n",
       "    }\n",
       "</style>\n",
       "<table border=\"1\" class=\"dataframe\">\n",
       "  <thead>\n",
       "    <tr style=\"text-align: right;\">\n",
       "      <th></th>\n",
       "      <th>ID</th>\n",
       "      <th>Length</th>\n",
       "      <th>Politeness victim</th>\n",
       "      <th>Politeness betrayer</th>\n",
       "      <th>Discourse victim</th>\n",
       "      <th>Discourse betrayer</th>\n",
       "      <th>Sentiment victim</th>\n",
       "      <th>Sentiment betrayer</th>\n",
       "      <th>Season countdown</th>\n",
       "    </tr>\n",
       "  </thead>\n",
       "  <tbody>\n",
       "    <tr>\n",
       "      <th>0</th>\n",
       "      <td>Game11-germany-france</td>\n",
       "      <td>9</td>\n",
       "      <td>0.382481</td>\n",
       "      <td>0.592597</td>\n",
       "      <td>0.323529</td>\n",
       "      <td>0.114583</td>\n",
       "      <td>0.117647</td>\n",
       "      <td>0.286458</td>\n",
       "      <td>8</td>\n",
       "    </tr>\n",
       "    <tr>\n",
       "      <th>1</th>\n",
       "      <td>Game11-germany-france</td>\n",
       "      <td>9</td>\n",
       "      <td>0.354487</td>\n",
       "      <td>0.427672</td>\n",
       "      <td>0.402778</td>\n",
       "      <td>0.190476</td>\n",
       "      <td>0.166667</td>\n",
       "      <td>0.071429</td>\n",
       "      <td>7</td>\n",
       "    </tr>\n",
       "    <tr>\n",
       "      <th>2</th>\n",
       "      <td>Game11-germany-france</td>\n",
       "      <td>9</td>\n",
       "      <td>0.440429</td>\n",
       "      <td>0.469425</td>\n",
       "      <td>0.633333</td>\n",
       "      <td>0.233333</td>\n",
       "      <td>0.188889</td>\n",
       "      <td>0.166667</td>\n",
       "      <td>6</td>\n",
       "    </tr>\n",
       "    <tr>\n",
       "      <th>3</th>\n",
       "      <td>Game11-germany-france</td>\n",
       "      <td>9</td>\n",
       "      <td>0.400727</td>\n",
       "      <td>0.521168</td>\n",
       "      <td>0.406250</td>\n",
       "      <td>0.166667</td>\n",
       "      <td>0.062500</td>\n",
       "      <td>0.083333</td>\n",
       "      <td>5</td>\n",
       "    </tr>\n",
       "    <tr>\n",
       "      <th>4</th>\n",
       "      <td>Game11-germany-france</td>\n",
       "      <td>9</td>\n",
       "      <td>0.356664</td>\n",
       "      <td>0.411648</td>\n",
       "      <td>0.450000</td>\n",
       "      <td>0.309524</td>\n",
       "      <td>0.133333</td>\n",
       "      <td>0.315476</td>\n",
       "      <td>4</td>\n",
       "    </tr>\n",
       "  </tbody>\n",
       "</table>\n",
       "</div>"
      ],
      "text/plain": [
       "                      ID  Length  Politeness victim  Politeness betrayer  \\\n",
       "0  Game11-germany-france       9           0.382481             0.592597   \n",
       "1  Game11-germany-france       9           0.354487             0.427672   \n",
       "2  Game11-germany-france       9           0.440429             0.469425   \n",
       "3  Game11-germany-france       9           0.400727             0.521168   \n",
       "4  Game11-germany-france       9           0.356664             0.411648   \n",
       "\n",
       "   Discourse victim  Discourse betrayer  Sentiment victim  Sentiment betrayer  \\\n",
       "0          0.323529            0.114583          0.117647            0.286458   \n",
       "1          0.402778            0.190476          0.166667            0.071429   \n",
       "2          0.633333            0.233333          0.188889            0.166667   \n",
       "3          0.406250            0.166667          0.062500            0.083333   \n",
       "4          0.450000            0.309524          0.133333            0.315476   \n",
       "\n",
       "   Season countdown  \n",
       "0                 8  \n",
       "1                 7  \n",
       "2                 6  \n",
       "3                 5  \n",
       "4                 4  "
      ]
     },
     "execution_count": 22,
     "metadata": {},
     "output_type": "execute_result"
    }
   ],
   "source": [
    "new_seasons = extract_new_seasons(data, roles)\n",
    "new_seasons.head()"
   ]
  },
  {
   "cell_type": "markdown",
   "metadata": {},
   "source": [
    "Finally, note that since the year parameter in the new data only counts years as integers, we do not actually have access to the seasons (two per year), but a full year, therefore averaging over each pair of seasons."
   ]
  },
  {
   "cell_type": "markdown",
   "metadata": {},
   "source": [
    "## Prediction of betrayal on new data"
   ]
  },
  {
   "cell_type": "code",
   "execution_count": 23,
   "metadata": {
    "scrolled": true
   },
   "outputs": [
    {
     "name": "stdout",
     "output_type": "stream",
     "text": [
      "Optimization terminated successfully.\n",
      "         Current function value: 0.691141\n",
      "         Iterations 4\n"
     ]
    },
    {
     "data": {
      "text/html": [
       "<table class=\"simpletable\">\n",
       "<caption>Logit Regression Results</caption>\n",
       "<tr>\n",
       "  <th>Dep. Variable:</th>       <td>Betrayal</td>     <th>  No. Observations:  </th>  <td>  3294</td> \n",
       "</tr>\n",
       "<tr>\n",
       "  <th>Model:</th>                 <td>Logit</td>      <th>  Df Residuals:      </th>  <td>  3287</td> \n",
       "</tr>\n",
       "<tr>\n",
       "  <th>Method:</th>                 <td>MLE</td>       <th>  Df Model:          </th>  <td>     6</td> \n",
       "</tr>\n",
       "<tr>\n",
       "  <th>Date:</th>            <td>Fri, 18 Dec 2020</td> <th>  Pseudo R-squ.:     </th> <td>0.002891</td>\n",
       "</tr>\n",
       "<tr>\n",
       "  <th>Time:</th>                <td>15:54:20</td>     <th>  Log-Likelihood:    </th> <td> -2276.6</td>\n",
       "</tr>\n",
       "<tr>\n",
       "  <th>converged:</th>             <td>True</td>       <th>  LL-Null:           </th> <td> -2283.2</td>\n",
       "</tr>\n",
       "<tr>\n",
       "  <th>Covariance Type:</th>     <td>nonrobust</td>    <th>  LLR p-value:       </th>  <td>0.03996</td>\n",
       "</tr>\n",
       "</table>\n",
       "<table class=\"simpletable\">\n",
       "<tr>\n",
       "           <td></td>              <th>coef</th>     <th>std err</th>      <th>z</th>      <th>P>|z|</th>  <th>[0.025</th>    <th>0.975]</th>  \n",
       "</tr>\n",
       "<tr>\n",
       "  <th>const</th>               <td>    0.0223</td> <td>    0.055</td> <td>    0.408</td> <td> 0.683</td> <td>   -0.085</td> <td>    0.130</td>\n",
       "</tr>\n",
       "<tr>\n",
       "  <th>Politeness victim</th>   <td>   -0.3506</td> <td>    0.145</td> <td>   -2.418</td> <td> 0.016</td> <td>   -0.635</td> <td>   -0.066</td>\n",
       "</tr>\n",
       "<tr>\n",
       "  <th>Politeness betrayer</th> <td>    0.0977</td> <td>    0.150</td> <td>    0.653</td> <td> 0.514</td> <td>   -0.196</td> <td>    0.391</td>\n",
       "</tr>\n",
       "<tr>\n",
       "  <th>Discourse victim</th>    <td>    0.1860</td> <td>    0.261</td> <td>    0.713</td> <td> 0.476</td> <td>   -0.326</td> <td>    0.698</td>\n",
       "</tr>\n",
       "<tr>\n",
       "  <th>Discourse betrayer</th>  <td>    0.6115</td> <td>    0.261</td> <td>    2.343</td> <td> 0.019</td> <td>    0.100</td> <td>    1.123</td>\n",
       "</tr>\n",
       "<tr>\n",
       "  <th>Sentiment victim</th>    <td>    0.3537</td> <td>    0.322</td> <td>    1.097</td> <td> 0.273</td> <td>   -0.278</td> <td>    0.986</td>\n",
       "</tr>\n",
       "<tr>\n",
       "  <th>Sentiment betrayer</th>  <td>   -0.4242</td> <td>    0.355</td> <td>   -1.194</td> <td> 0.232</td> <td>   -1.121</td> <td>    0.272</td>\n",
       "</tr>\n",
       "</table>"
      ],
      "text/plain": [
       "<class 'statsmodels.iolib.summary.Summary'>\n",
       "\"\"\"\n",
       "                           Logit Regression Results                           \n",
       "==============================================================================\n",
       "Dep. Variable:               Betrayal   No. Observations:                 3294\n",
       "Model:                          Logit   Df Residuals:                     3287\n",
       "Method:                           MLE   Df Model:                            6\n",
       "Date:                Fri, 18 Dec 2020   Pseudo R-squ.:                0.002891\n",
       "Time:                        15:54:20   Log-Likelihood:                -2276.6\n",
       "converged:                       True   LL-Null:                       -2283.2\n",
       "Covariance Type:            nonrobust   LLR p-value:                   0.03996\n",
       "=======================================================================================\n",
       "                          coef    std err          z      P>|z|      [0.025      0.975]\n",
       "---------------------------------------------------------------------------------------\n",
       "const                   0.0223      0.055      0.408      0.683      -0.085       0.130\n",
       "Politeness victim      -0.3506      0.145     -2.418      0.016      -0.635      -0.066\n",
       "Politeness betrayer     0.0977      0.150      0.653      0.514      -0.196       0.391\n",
       "Discourse victim        0.1860      0.261      0.713      0.476      -0.326       0.698\n",
       "Discourse betrayer      0.6115      0.261      2.343      0.019       0.100       1.123\n",
       "Sentiment victim        0.3537      0.322      1.097      0.273      -0.278       0.986\n",
       "Sentiment betrayer     -0.4242      0.355     -1.194      0.232      -1.121       0.272\n",
       "=======================================================================================\n",
       "\"\"\""
      ]
     },
     "execution_count": 23,
     "metadata": {},
     "output_type": "execute_result"
    }
   ],
   "source": [
    "#Final model for prediction on new data, trained on full dataset (old)\n",
    "log_reg_fin = sm.Logit(y, sm.add_constant(x)).fit()#fit_regularized(method=\"l1\")\n",
    "log_reg_fin.summary()"
   ]
  },
  {
   "cell_type": "code",
   "execution_count": 24,
   "metadata": {},
   "outputs": [],
   "source": [
    "final_seasons = new_seasons[new_seasons['Length']>1]"
   ]
  },
  {
   "cell_type": "code",
   "execution_count": 25,
   "metadata": {},
   "outputs": [
    {
     "name": "stderr",
     "output_type": "stream",
     "text": [
      "C:\\Users\\clara\\Anaconda3\\lib\\site-packages\\ipykernel_launcher.py:2: SettingWithCopyWarning: \n",
      "A value is trying to be set on a copy of a slice from a DataFrame.\n",
      "Try using .loc[row_indexer,col_indexer] = value instead\n",
      "\n",
      "See the caveats in the documentation: https://pandas.pydata.org/pandas-docs/stable/user_guide/indexing.html#returning-a-view-versus-a-copy\n",
      "  \n",
      "C:\\Users\\clara\\Anaconda3\\lib\\site-packages\\ipykernel_launcher.py:4: SettingWithCopyWarning: \n",
      "A value is trying to be set on a copy of a slice from a DataFrame.\n",
      "Try using .loc[row_indexer,col_indexer] = value instead\n",
      "\n",
      "See the caveats in the documentation: https://pandas.pydata.org/pandas-docs/stable/user_guide/indexing.html#returning-a-view-versus-a-copy\n",
      "  after removing the cwd from sys.path.\n"
     ]
    }
   ],
   "source": [
    "x_new = final_seasons[features]\n",
    "x_new['const'] = [1 for i in range(x_new.shape[0])]\n",
    "predictions_new = log_reg_fin.predict(x_new)\n",
    "final_seasons[\"Betrayal predictor\"] = predictions_new"
   ]
  },
  {
   "cell_type": "code",
   "execution_count": 26,
   "metadata": {},
   "outputs": [],
   "source": [
    "def majority_prediction(final_seasons):\n",
    "    \"\"\"classify a relationship as betrayal or lasting by averaging the prediction over the corresponding seasons\n",
    "    returns a list where each element is the final prediction of betrayal for each season,\n",
    "    and every season of the same relationship has the same prediction\"\"\"\n",
    "    betrayals = []\n",
    "    for r in set(final_seasons['ID']):\n",
    "        rel = final_seasons[final_seasons['ID'] == r]\n",
    "        avg = rel[\"Betrayal predictor\"].mean()\n",
    "        if avg < 0.5 :\n",
    "            for i in range(rel.shape[0]):\n",
    "                betrayals.append(False)\n",
    "        else :\n",
    "            for i in range(rel.shape[0]):\n",
    "                betrayals.append(False)    \n",
    "    return betrayals"
   ]
  },
  {
   "cell_type": "code",
   "execution_count": 27,
   "metadata": {},
   "outputs": [
    {
     "name": "stdout",
     "output_type": "stream",
     "text": [
      "(array([], dtype=int64),)\n"
     ]
    },
    {
     "name": "stderr",
     "output_type": "stream",
     "text": [
      "C:\\Users\\clara\\Anaconda3\\lib\\site-packages\\ipykernel_launcher.py:2: SettingWithCopyWarning: \n",
      "A value is trying to be set on a copy of a slice from a DataFrame.\n",
      "Try using .loc[row_indexer,col_indexer] = value instead\n",
      "\n",
      "See the caveats in the documentation: https://pandas.pydata.org/pandas-docs/stable/user_guide/indexing.html#returning-a-view-versus-a-copy\n",
      "  \n"
     ]
    }
   ],
   "source": [
    "betrayals_seasons = majority_prediction(final_seasons)\n",
    "final_seasons[\"Betrayal result\"] = betrayals_seasons\n",
    "print(np.where(betrayals_seasons == True))"
   ]
  },
  {
   "cell_type": "code",
   "execution_count": 28,
   "metadata": {},
   "outputs": [],
   "source": [
    "def add_roles(data):\n",
    "    \"\"\"returns a dataframe containing the ids of the betrayer and the victim for each relationship\"\"\"\n",
    "    player_roles = []\n",
    "    idx = []\n",
    "    for r in set(data['conversation_id']):\n",
    "        rel = data[data['conversation_id']==r]\n",
    "        players = list(set(rel['speaker']))\n",
    "        if len(players) == 2 :\n",
    "            rel_roles = roles[roles['ID']==r]\n",
    "            for i,m in rel.iterrows():\n",
    "                idx.append(r)\n",
    "                if m['speaker'] == rel_roles['Betrayer'].iloc[0]:\n",
    "                    player_roles.append('betrayer')\n",
    "                else:\n",
    "                    player_roles.append('victim')\n",
    "        \n",
    "    return pd.DataFrame({'conversation_id':idx,'role':player_roles})"
   ]
  },
  {
   "cell_type": "code",
   "execution_count": 29,
   "metadata": {},
   "outputs": [],
   "source": [
    "roles_add = add_roles(data)"
   ]
  },
  {
   "cell_type": "code",
   "execution_count": 30,
   "metadata": {},
   "outputs": [
    {
     "data": {
      "text/html": [
       "<div>\n",
       "<style scoped>\n",
       "    .dataframe tbody tr th:only-of-type {\n",
       "        vertical-align: middle;\n",
       "    }\n",
       "\n",
       "    .dataframe tbody tr th {\n",
       "        vertical-align: top;\n",
       "    }\n",
       "\n",
       "    .dataframe thead th {\n",
       "        text-align: right;\n",
       "    }\n",
       "</style>\n",
       "<table border=\"1\" class=\"dataframe\">\n",
       "  <thead>\n",
       "    <tr style=\"text-align: right;\">\n",
       "      <th></th>\n",
       "      <th>conversation_id</th>\n",
       "      <th>role</th>\n",
       "    </tr>\n",
       "  </thead>\n",
       "  <tbody>\n",
       "    <tr>\n",
       "      <th>0</th>\n",
       "      <td>Game11-germany-france</td>\n",
       "      <td>victim</td>\n",
       "    </tr>\n",
       "    <tr>\n",
       "      <th>1</th>\n",
       "      <td>Game11-germany-france</td>\n",
       "      <td>betrayer</td>\n",
       "    </tr>\n",
       "    <tr>\n",
       "      <th>2</th>\n",
       "      <td>Game11-germany-france</td>\n",
       "      <td>betrayer</td>\n",
       "    </tr>\n",
       "    <tr>\n",
       "      <th>3</th>\n",
       "      <td>Game11-germany-france</td>\n",
       "      <td>victim</td>\n",
       "    </tr>\n",
       "    <tr>\n",
       "      <th>4</th>\n",
       "      <td>Game11-germany-france</td>\n",
       "      <td>victim</td>\n",
       "    </tr>\n",
       "    <tr>\n",
       "      <th>...</th>\n",
       "      <td>...</td>\n",
       "      <td>...</td>\n",
       "    </tr>\n",
       "    <tr>\n",
       "      <th>17214</th>\n",
       "      <td>Game2-italy-france</td>\n",
       "      <td>betrayer</td>\n",
       "    </tr>\n",
       "    <tr>\n",
       "      <th>17215</th>\n",
       "      <td>Game2-italy-france</td>\n",
       "      <td>victim</td>\n",
       "    </tr>\n",
       "    <tr>\n",
       "      <th>17216</th>\n",
       "      <td>Game2-italy-france</td>\n",
       "      <td>victim</td>\n",
       "    </tr>\n",
       "    <tr>\n",
       "      <th>17217</th>\n",
       "      <td>Game2-italy-france</td>\n",
       "      <td>betrayer</td>\n",
       "    </tr>\n",
       "    <tr>\n",
       "      <th>17218</th>\n",
       "      <td>Game2-italy-france</td>\n",
       "      <td>betrayer</td>\n",
       "    </tr>\n",
       "  </tbody>\n",
       "</table>\n",
       "<p>17219 rows × 2 columns</p>\n",
       "</div>"
      ],
      "text/plain": [
       "             conversation_id      role\n",
       "0      Game11-germany-france    victim\n",
       "1      Game11-germany-france  betrayer\n",
       "2      Game11-germany-france  betrayer\n",
       "3      Game11-germany-france    victim\n",
       "4      Game11-germany-france    victim\n",
       "...                      ...       ...\n",
       "17214     Game2-italy-france  betrayer\n",
       "17215     Game2-italy-france    victim\n",
       "17216     Game2-italy-france    victim\n",
       "17217     Game2-italy-france  betrayer\n",
       "17218     Game2-italy-france  betrayer\n",
       "\n",
       "[17219 rows x 2 columns]"
      ]
     },
     "execution_count": 30,
     "metadata": {},
     "output_type": "execute_result"
    }
   ],
   "source": [
    "roles_add"
   ]
  },
  {
   "cell_type": "code",
   "execution_count": 31,
   "metadata": {},
   "outputs": [],
   "source": [
    "compl_data = data.merge(roles_add, on = 'conversation_id')"
   ]
  },
  {
   "cell_type": "markdown",
   "metadata": {},
   "source": [
    "## Plotting and initial data analysis"
   ]
  },
  {
   "cell_type": "code",
   "execution_count": 32,
   "metadata": {},
   "outputs": [],
   "source": [
    "data['Perception'] = np.where(data[\"meta.speaker_intention\"]==data[\"meta.receiver_perception\"],'Correct',\"Wrong\")"
   ]
  },
  {
   "cell_type": "code",
   "execution_count": 33,
   "metadata": {},
   "outputs": [
    {
     "name": "stdout",
     "output_type": "stream",
     "text": [
      "Number of intended lies : 882\n",
      "Number of intended truths : 16354\n",
      "Number of truths perceived as truths : 14275\n",
      "Number of truths perceived as lies (Cassandra) : 661\n",
      "Number of lies caught : 109\n",
      "Number of lies perceived as truths (deception) : 688\n"
     ]
    }
   ],
   "source": [
    "lies = data[data[\"meta.speaker_intention\"] == 'Lie']\n",
    "truths = data[data[\"meta.speaker_intention\"] == 'Truth']\n",
    "print(\"Number of intended lies :\", lies.shape[0])\n",
    "print(\"Number of intended truths :\", truths.shape[0])\n",
    "print(\"Number of truths perceived as truths :\", data[data[\"meta.deception_quadrant\"] == \"Straightforward\"].shape[0])\n",
    "print(\"Number of truths perceived as lies (Cassandra) :\", data[data[\"meta.deception_quadrant\"] == \"Cassandra\"].shape[0])\n",
    "print(\"Number of lies caught :\", data[data[\"meta.deception_quadrant\"] == \"Caught\"].shape[0])\n",
    "print(\"Number of lies perceived as truths (deception) :\", data[data[\"meta.deception_quadrant\"] == \"Deceived\"].shape[0])"
   ]
  },
  {
   "cell_type": "code",
   "execution_count": 34,
   "metadata": {},
   "outputs": [],
   "source": [
    "colors = {'Lie' : coolors[\"Red\"], 'Truth': coolors[\"Emerald\"]}"
   ]
  },
  {
   "cell_type": "code",
   "execution_count": 35,
   "metadata": {},
   "outputs": [
    {
     "data": {
      "image/png": "[encoded data removed]",
      "text/plain": [
       "<Figure size 1080x360 with 3 Axes>"
      ]
     },
     "metadata": {
      "needs_background": "light"
     },
     "output_type": "display_data"
    }
   ],
   "source": [
    "fig, axs = plt.subplots(1,3, figsize = (15,5))\n",
    "sns.barplot(y=\"sentiment_score\",x = \"meta.speaker_intention\",data = data,ax = axs[0],ci = 68,capsize = 0.03,\n",
    "            linewidth=2, errwidth = 2,errcolor=\".2\", edgecolor=\".1\", palette = colors)\n",
    "axs[0].set(ylim = (0,0.2),xlabel='Speaker intention',ylabel= 'Positive sentiment')\n",
    "sns.barplot(y=\"discourse_score\",x = \"meta.speaker_intention\",data = data,ax = axs[1],ci = 68,capsize = 0.03,\n",
    "            linewidth=2, errwidth = 2,errcolor=\".2\", edgecolor=\".1\", palette = colors)\n",
    "axs[1].set(ylim = (0,0.3),xlabel='Speaker intention',ylabel= 'Planning discourse')\n",
    "sns.barplot(y=\"meta.pred_score\",x = \"meta.speaker_intention\",data = data,ax = axs[2],ci = 68,capsize = 0.03,\n",
    "            linewidth=2, errwidth = 2,errcolor=\".2\", edgecolor=\".1\", palette = colors)\n",
    "axs[2].set(ylim = (0,0.6),xlabel='Speaker intention',ylabel= 'Politeness')\n",
    "plt.suptitle(\"Score differences between truths and lies (based on speaker intention)\")\n",
    "\n",
    "plt.savefig('score_diff.png')"
   ]
  },
  {
   "cell_type": "code",
   "execution_count": 36,
   "metadata": {},
   "outputs": [
    {
     "data": {
      "image/png": "[encoded data removed]",
      "text/plain": [
       "<Figure size 1080x360 with 3 Axes>"
      ]
     },
     "metadata": {
      "needs_background": "light"
     },
     "output_type": "display_data"
    }
   ],
   "source": [
    "fig, axs = plt.subplots(1,3, figsize = (15,5))\n",
    "sns.barplot(y=\"sentiment_score\",x = \"role\",hue = \"meta.speaker_intention\",data = compl_data,ax = axs[0],ci = 68,capsize = 0.03,\n",
    "            linewidth=2, errwidth = 2,errcolor=\".2\", edgecolor=\".1\", palette = colors)\n",
    "axs[0].set(ylim = (0,0.2),xlabel='Player',ylabel= 'Positive sentiment')\n",
    "axs[0].legend().set_visible(False)\n",
    "sns.barplot(y=\"discourse_score\",x = \"role\",data = compl_data,hue = \"meta.speaker_intention\",ax = axs[1],ci = 68,capsize = 0.03,\n",
    "            linewidth=2, errwidth = 2,errcolor=\".2\", edgecolor=\".1\", palette = colors)\n",
    "axs[1].set(ylim = (0,0.3),xlabel='Player',ylabel= 'Planning discourse')\n",
    "axs[1].legend().set_visible(False)\n",
    "sns.barplot(y=\"meta.pred_score\",x = \"role\",data = compl_data, hue = \"meta.speaker_intention\",ax = axs[2],ci = 68,capsize = 0.03,\n",
    "            linewidth=2, errwidth = 2,errcolor=\".2\", edgecolor=\".1\", palette = colors)\n",
    "axs[2].set(ylim = (0,0.6),xlabel='Player',ylabel= 'Politeness')\n",
    "plt.suptitle(\"Score difference between truths and lies based on speaker intention and role of the player\")\n",
    "plt.savefig('Long.png')\n",
    "plt.show()"
   ]
  },
  {
   "cell_type": "code",
   "execution_count": 37,
   "metadata": {},
   "outputs": [
    {
     "data": {
      "text/plain": [
       "<matplotlib.axes._subplots.AxesSubplot at 0x221c988d358>"
      ]
     },
     "execution_count": 37,
     "metadata": {},
     "output_type": "execute_result"
    },
    {
     "data": {
      "image/png": "[encoded data removed]",
      "text/plain": [
       "<Figure size 1080x720 with 6 Axes>"
      ]
     },
     "metadata": {
      "needs_background": "light"
     },
     "output_type": "display_data"
    }
   ],
   "source": [
    "colors = {'Lie' : coolors[\"Red\"], 'Truth': coolors[\"Emerald\"]}\n",
    "fig, axs = plt.subplots(3,2, figsize = (15,10))\n",
    "sns.histplot(data = truths, x = \"meta.pred_score\", ax = axs[0,0], color = colors['Truth'], \n",
    "             edgecolor=coolors['Green'], linewidth=1.5)\n",
    "sns.histplot(data = lies, x = \"meta.pred_score\", ax = axs[0,1], color=colors['Lie'], \n",
    "             edgecolor = coolors['Burgundy'], linewidth=2)\n",
    "sns.histplot(data = truths, x = \"discourse_score\", ax = axs[1,0], color = colors['Truth'], \n",
    "             edgecolor=coolors['Green'], linewidth=1.5)\n",
    "sns.histplot(data = lies, x = \"discourse_score\", ax = axs[1,1], color=colors['Lie'], \n",
    "             edgecolor = coolors['Burgundy'], linewidth=2)\n",
    "sns.histplot(data = truths, x = \"sentiment_score\", ax = axs[2,0], color = colors['Truth'], \n",
    "             edgecolor=coolors['Green'], linewidth=1.5)\n",
    "sns.histplot(data = lies, x = \"sentiment_score\", ax = axs[2,1], color=colors['Lie'], \n",
    "             edgecolor = coolors['Burgundy'], linewidth=2)"
   ]
  },
  {
   "cell_type": "code",
   "execution_count": 38,
   "metadata": {},
   "outputs": [
    {
     "data": {
      "image/png": "[encoded data removed]",
      "text/plain": [
       "<Figure size 1440x576 with 3 Axes>"
      ]
     },
     "metadata": {
      "needs_background": "light"
     },
     "output_type": "display_data"
    }
   ],
   "source": [
    "colors_2 = {'Correct' : coolors[\"Emerald\"],'Wrong' :coolors[\"Red\"]} #Set color palette\n",
    "fig, axs = plt.subplots(1,3, figsize = (20,8))\n",
    "sns.barplot(y=\"sentiment_score\",x = \"meta.speaker_intention\", hue = \"Perception\",data = data,ax = axs[0],ci = 68,capsize = 0.03,\n",
    "            linewidth=2, errwidth = 2,errcolor=\".2\", edgecolor=\".1\", palette = colors_2)\n",
    "axs[0].set(ylim = (0,0.2),xlabel='Speaker intention',ylabel= 'Positive sentiment')\n",
    "sns.barplot(y=\"discourse_score\",x = \"meta.speaker_intention\",data = data,hue = \"Perception\",ax = axs[1],ci = 68,capsize = 0.03,\n",
    "            linewidth=2, errwidth = 2,errcolor=\".2\", edgecolor=\".1\", palette = colors_2)\n",
    "axs[1].set(ylim = (0,0.3),xlabel='Speaker intention',ylabel= 'Discourse')\n",
    "sns.barplot(y=\"meta.pred_score\",x = \"meta.speaker_intention\",data = data,hue = \"Perception\",ax = axs[2],ci = 68,capsize = 0.03,\n",
    "            linewidth=2, errwidth = 2,errcolor=\".2\", edgecolor=\".1\", palette = colors_2)\n",
    "axs[2].set(ylim = (0,0.6),xlabel='Speaker intention',ylabel= 'Message politeness')\n",
    "plt.suptitle(\"Score difference between Truth and lies based on speaker intention and receiver perception\")\n",
    "plt.savefig('score_diff_hue.png')"
   ]
  },
  {
   "cell_type": "code",
   "execution_count": null,
   "metadata": {},
   "outputs": [],
   "source": []
  }
 ],
 "metadata": {
  "kernelspec": {
   "display_name": "Python 3",
   "language": "python",
   "name": "python3"
  },
  "language_info": {
   "codemirror_mode": {
    "name": "ipython",
    "version": 3
   },
   "file_extension": ".py",
   "mimetype": "text/x-python",
   "name": "python",
   "nbconvert_exporter": "python",
   "pygments_lexer": "ipython3",
   "version": "3.7.3"
  }
 },
 "nbformat": 4,
 "nbformat_minor": 2
}
