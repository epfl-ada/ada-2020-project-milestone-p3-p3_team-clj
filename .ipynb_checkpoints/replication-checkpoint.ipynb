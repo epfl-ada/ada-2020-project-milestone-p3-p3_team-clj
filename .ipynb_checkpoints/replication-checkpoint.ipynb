{
 "cells": [
  {
   "cell_type": "markdown",
   "metadata": {},
   "source": [
    "## Milestone P2 Linguistic Harbingers of Betrayal \n",
    "## Julian Leon Raub\n",
    "### Sciper: 272254"
   ]
  },
  {
   "cell_type": "markdown",
   "metadata": {},
   "source": [
    "### Context: \n",
    "\n",
    "We are given a dataset with a collection of interactions between two parties, half of which end in betrayal and the ohter half being long lasting relationships.The authors already did all the data wrangling for us. This consisted of chosing relationships that contain at least two consecutive and reciprocated acts of support that span at least three seasons in game time, with no more than five seasons passing between two acts of friendship. Out of these chosen relationships they identified the ones that ended in at least two consecutive attacks. These betrayals were then matched with lasting relationships that are nearly identical (in terms of game length etc).\n",
    "\n",
    "### Structure of the dataset:\n",
    "\n",
    "The dataset consists of a list of dictionnaries. Each dictionnary being an interaction between two players. \n",
    "An interaction has several attributes such as game number, id, the party members involved, if there was a betrayal or not and finally the seasons. The seasons attribute is also a list of dictionnaries in which a dictionnary is represents everything happening in a given season. \n",
    "This season dictionnary also has several attributes, like the season number (e.g 1908.5), interaction between two players('support','attack' or 'null') and messages sent during the season (this is also a list of dictionnaries). \n",
    "Finally we come down to the last branch of this data set which is the messages sent. This list of dictionnaries contains two dicionnaries for either the betrayer or the victim (accessible through messages['victim'] and messages['betrayer']) each containing a list of messages sent and their respective politeness scores. These politeness score will be used to generate out Barplot. "
   ]
  },
  {
   "cell_type": "markdown",
   "metadata": {},
   "source": [
    "#### First we import the necessary libraries"
   ]
  },
  {
   "cell_type": "code",
   "execution_count": 1,
   "metadata": {},
   "outputs": [],
   "source": [
    "import json\n",
    "import seaborn as sns\n",
    "from scipy.stats import sem\n",
    "import numpy as np\n",
    "import matplotlib.pyplot as plt\n",
    "import pandas as pd"
   ]
  },
  {
   "cell_type": "markdown",
   "metadata": {},
   "source": [
    "#### Then we open the json dataset "
   ]
  },
  {
   "cell_type": "code",
   "execution_count": 2,
   "metadata": {},
   "outputs": [],
   "source": [
    "with open(\"diplomacy_data.json\") as f:\n",
    "    data = json.load(f)"
   ]
  },
  {
   "cell_type": "markdown",
   "metadata": {},
   "source": [
    "#### Then we transform the dataset into a DataFrame \n",
    "We do this because of personal choice. It is easier to work with Dataframes than with dictionnaries in my opinon."
   ]
  },
  {
   "cell_type": "code",
   "execution_count": 3,
   "metadata": {},
   "outputs": [
    {
     "data": {
      "text/html": [
       "<div>\n",
       "<style scoped>\n",
       "    .dataframe tbody tr th:only-of-type {\n",
       "        vertical-align: middle;\n",
       "    }\n",
       "\n",
       "    .dataframe tbody tr th {\n",
       "        vertical-align: top;\n",
       "    }\n",
       "\n",
       "    .dataframe thead th {\n",
       "        text-align: right;\n",
       "    }\n",
       "</style>\n",
       "<table border=\"1\" class=\"dataframe\">\n",
       "  <thead>\n",
       "    <tr style=\"text-align: right;\">\n",
       "      <th></th>\n",
       "      <th>seasons</th>\n",
       "      <th>game</th>\n",
       "      <th>betrayal</th>\n",
       "      <th>idx</th>\n",
       "      <th>people</th>\n",
       "    </tr>\n",
       "  </thead>\n",
       "  <tbody>\n",
       "    <tr>\n",
       "      <th>0</th>\n",
       "      <td>[{'season': 1906.5, 'interaction': {'victim': ...</td>\n",
       "      <td>74</td>\n",
       "      <td>True</td>\n",
       "      <td>0</td>\n",
       "      <td>AT</td>\n",
       "    </tr>\n",
       "    <tr>\n",
       "      <th>1</th>\n",
       "      <td>[{'season': 1911.5, 'interaction': {'victim': ...</td>\n",
       "      <td>165</td>\n",
       "      <td>False</td>\n",
       "      <td>1</td>\n",
       "      <td>EG</td>\n",
       "    </tr>\n",
       "    <tr>\n",
       "      <th>2</th>\n",
       "      <td>[{'season': 1911.0, 'interaction': {'victim': ...</td>\n",
       "      <td>157</td>\n",
       "      <td>False</td>\n",
       "      <td>2</td>\n",
       "      <td>AR</td>\n",
       "    </tr>\n",
       "    <tr>\n",
       "      <th>3</th>\n",
       "      <td>[{'season': 1902.0, 'interaction': {'victim': ...</td>\n",
       "      <td>58</td>\n",
       "      <td>False</td>\n",
       "      <td>3</td>\n",
       "      <td>AR</td>\n",
       "    </tr>\n",
       "    <tr>\n",
       "      <th>4</th>\n",
       "      <td>[{'season': 1910.0, 'interaction': {'victim': ...</td>\n",
       "      <td>45</td>\n",
       "      <td>False</td>\n",
       "      <td>4</td>\n",
       "      <td>IT</td>\n",
       "    </tr>\n",
       "  </tbody>\n",
       "</table>\n",
       "</div>"
      ],
      "text/plain": [
       "                                             seasons  game  betrayal  idx  \\\n",
       "0  [{'season': 1906.5, 'interaction': {'victim': ...    74      True    0   \n",
       "1  [{'season': 1911.5, 'interaction': {'victim': ...   165     False    1   \n",
       "2  [{'season': 1911.0, 'interaction': {'victim': ...   157     False    2   \n",
       "3  [{'season': 1902.0, 'interaction': {'victim': ...    58     False    3   \n",
       "4  [{'season': 1910.0, 'interaction': {'victim': ...    45     False    4   \n",
       "\n",
       "  people  \n",
       "0     AT  \n",
       "1     EG  \n",
       "2     AR  \n",
       "3     AR  \n",
       "4     IT  "
      ]
     },
     "execution_count": 3,
     "metadata": {},
     "output_type": "execute_result"
    }
   ],
   "source": [
    "df = pd.DataFrame(data) #convert data from list of Dict to a DataFrame\n",
    "df.head(5)"
   ]
  },
  {
   "cell_type": "markdown",
   "metadata": {},
   "source": [
    "### Defining useful functions\n",
    "#### The 3 functions below are used on the dataset from above (called df) and extract relevant informations from it.\n",
    "\n",
    "#### 1. last_support: \n",
    "This function extracts the last support from a player in a given relationship and return the season number for which the last support was given. For example: two players support each other from 1905 to 1907.5 (the .0 for spring and .5 for autumn season) and one attacks at 1908. The function will return 1907.5 as it is the last season of support. \n",
    "\n",
    "#### 2. message_politeness\n",
    "This function averages the politeness score for a given party member on a given season. For example player A  writes 6 messages to player B on season 1905 each message having it's own politeness score, the function will return the average politeness of the 6 messages for player A on season 1905. \n",
    "\n",
    "#### 3. add_line \n",
    "This function takes adds rows to the plotting_data and imbalance datasets depending on the arguments given to the funciton. Pretty straight forward. "
   ]
  },
  {
   "cell_type": "code",
   "execution_count": 4,
   "metadata": {},
   "outputs": [],
   "source": [
    "def last_support(seasons):\n",
    "    \"\"\"return the last season where a player supported the other\"\"\"\n",
    "    for season in seasons: #iterate over each season in a relationship\n",
    "        if 'support' in season['interaction'].values(): #if the word \"support\" is in the values of interaction then -->\n",
    "            support = season['season'] # add the number of the season to supp_season \n",
    "        \n",
    "    return support #return the last support season (e.g 1908.5)"
   ]
  },
  {
   "cell_type": "code",
   "execution_count": 5,
   "metadata": {},
   "outputs": [],
   "source": [
    "def message_politeness(messages):\n",
    "    \"\"\"return the average politeness score for a particular player in a season\"\"\"\n",
    "    return sum(m['politeness'] for m in messages)/len(messages)"
   ]
  },
  {
   "cell_type": "code",
   "execution_count": 6,
   "metadata": {},
   "outputs": [],
   "source": [
    "def message_discourse(messages):\n",
    "    \"\"\"return the average number of discourse markers per sentence\"\"\"\n",
    "    n_sents = sum(m['n_sentences'] for m in messages) * 1.0\n",
    "    return sum(len(m['lexicon_words'].get(\"disc_temporal_future\", [])) for m in messages) / n_sents"
   ]
  },
  {
   "cell_type": "code",
   "execution_count": 7,
   "metadata": {},
   "outputs": [],
   "source": [
    "def message_sentiment(messages):\n",
    "    \"\"\"return positive sentiment average per sentence\"\"\"\n",
    "    n_sents = sum(m['n_sentences'] for m in messages) * 1.0\n",
    "    return sum(m['sentiment']['positive'] for m in messages)/n_sents"
   ]
  },
  {
   "cell_type": "code",
   "execution_count": 40,
   "metadata": {},
   "outputs": [],
   "source": [
    "def add_line(data,politeness,discourse,sentiment,relationship,player = None ,imbalance = True):\n",
    "    \"\"\"if imbalance is false add a line to the  plotting_data dataset with respective politeness player type and relationship ending\n",
    "       if imbalance is true add a line to the imbalance data set with only relationship and score\"\"\"\n",
    "    if imbalance:\n",
    "        data.append({'imbalance':'','imbalance politeness':politeness,'imbalance discourse':discourse,'imbalance sentiment':sentiment,'relationship':relationship})\n",
    "    else:\n",
    "        data.append({'Politeness Score':politeness,'Discourse Score':discourse,'Sentiment Score':sentiment,'Player':player,'relationship':relationship})\n",
    "        "
   ]
  },
  {
   "cell_type": "markdown",
   "metadata": {},
   "source": [
    "### This is where the magic happens \n",
    "\n",
    "#### General procedure \n",
    "We need to access the messages['betrayer']['politeness'] and messages['victim']['politeness'] score. This means we need to iterate over the rows of the dataframe, over each season of the seasons attribute and over each message in a given season. \n",
    "<u>Sanity check</u>: we do indeed have 3 for loops (2 below and 1 inside the message_politeness function). \n",
    "\n",
    "Now, for each season we need to check a certain amount of conditions before getting the politeness scores.\n",
    "1. if each player sent at least 1 message in the season.\n",
    "2. if the relationship ends in betrayal or not.\n",
    "3. if the relationship does end in betrayal we take only the messages up to the last event of support.\n"
   ]
  },
  {
   "cell_type": "code",
   "execution_count": 41,
   "metadata": {},
   "outputs": [],
   "source": [
    "plotting_data = [] \n",
    "imbalance_data = []\n",
    "\n",
    "for index,row in df.iterrows(): #iterate over the rows of the dataframe\n",
    "    \n",
    "    seasons = row.seasons #define the seasons (see dataframe.head() above)\n",
    "    last_supp = last_support(seasons) #find the season of the last support \n",
    "    \n",
    "    for season in seasons: #iterate over each season \n",
    "        \n",
    "        # check if the two players had an interaction in every single season\n",
    "        if len(season['messages']['betrayer']) > 0 and len(season['messages']['victim']) > 0: \n",
    "            \n",
    "            polite_betray = message_politeness(season['messages']['betrayer']) #calculate politeness for betrayer\n",
    "            polite_vict = message_politeness(season['messages']['victim']) #calculate politeness for victim\n",
    "            disc_betray = message_discourse(season['messages']['betrayer']) #calculate politeness for betrayer\n",
    "            disc_vict = message_discourse(season['messages']['victim']) #calculate politeness for victim\n",
    "            sent_betray = message_sentiment(season['messages']['betrayer']) #calculate politeness for betrayer\n",
    "            sent_vict = message_sentiment(season['messages']['victim']) #calculate politeness for victim\n",
    "            #if there is a betrayal take only politeness until last support season \n",
    "            if row.betrayal==True and season['season']<=last_supp: \n",
    "                \n",
    "                #append dictionnaries corresponding to all 3 where there is betrayal\n",
    "                add_line(plotting_data,polite_betray,disc_betray,sent_betray,'betrayal','betrayer',False)\n",
    "                add_line(plotting_data,polite_vict,disc_vict,sent_vict,'betrayal','victim',False)\n",
    "                add_line(imbalance_data,polite_betray-polite_vict,disc_betray-disc_vict,sent_betray-sent_vict,'betrayal')\n",
    "\n",
    "            if row.betrayal== False: \n",
    "\n",
    "                #append dictionnaries corresponding to all 3 where there is  no betrayal             \n",
    "                add_line(plotting_data,polite_betray,disc_betray,sent_betray,'no betrayal','betrayer',False)\n",
    "                add_line(plotting_data,polite_vict,disc_vict,sent_vict,'no betrayal','victim',False)\n",
    "                add_line(imbalance_data,polite_betray-polite_vict,disc_betray-disc_vict,sent_betray-sent_vict,'no betrayal')\n"
   ]
  },
  {
   "cell_type": "code",
   "execution_count": 42,
   "metadata": {},
   "outputs": [
    {
     "data": {
      "text/html": [
       "<div>\n",
       "<style scoped>\n",
       "    .dataframe tbody tr th:only-of-type {\n",
       "        vertical-align: middle;\n",
       "    }\n",
       "\n",
       "    .dataframe tbody tr th {\n",
       "        vertical-align: top;\n",
       "    }\n",
       "\n",
       "    .dataframe thead th {\n",
       "        text-align: right;\n",
       "    }\n",
       "</style>\n",
       "<table border=\"1\" class=\"dataframe\">\n",
       "  <thead>\n",
       "    <tr style=\"text-align: right;\">\n",
       "      <th></th>\n",
       "      <th>Politeness Score</th>\n",
       "      <th>Discourse Score</th>\n",
       "      <th>Sentiment Score</th>\n",
       "      <th>Player</th>\n",
       "      <th>relationship</th>\n",
       "    </tr>\n",
       "  </thead>\n",
       "  <tbody>\n",
       "    <tr>\n",
       "      <th>0</th>\n",
       "      <td>0.803328</td>\n",
       "      <td>0.120000</td>\n",
       "      <td>0.320000</td>\n",
       "      <td>betrayer</td>\n",
       "      <td>betrayal</td>\n",
       "    </tr>\n",
       "    <tr>\n",
       "      <th>1</th>\n",
       "      <td>0.809993</td>\n",
       "      <td>0.129032</td>\n",
       "      <td>0.193548</td>\n",
       "      <td>victim</td>\n",
       "      <td>betrayal</td>\n",
       "    </tr>\n",
       "    <tr>\n",
       "      <th>2</th>\n",
       "      <td>0.560083</td>\n",
       "      <td>0.125000</td>\n",
       "      <td>0.062500</td>\n",
       "      <td>betrayer</td>\n",
       "      <td>betrayal</td>\n",
       "    </tr>\n",
       "    <tr>\n",
       "      <th>3</th>\n",
       "      <td>0.785508</td>\n",
       "      <td>0.000000</td>\n",
       "      <td>0.444444</td>\n",
       "      <td>victim</td>\n",
       "      <td>betrayal</td>\n",
       "    </tr>\n",
       "    <tr>\n",
       "      <th>4</th>\n",
       "      <td>0.982703</td>\n",
       "      <td>0.307692</td>\n",
       "      <td>0.307692</td>\n",
       "      <td>betrayer</td>\n",
       "      <td>betrayal</td>\n",
       "    </tr>\n",
       "  </tbody>\n",
       "</table>\n",
       "</div>"
      ],
      "text/plain": [
       "   Politeness Score  Discourse Score  Sentiment Score    Player relationship\n",
       "0          0.803328         0.120000         0.320000  betrayer     betrayal\n",
       "1          0.809993         0.129032         0.193548    victim     betrayal\n",
       "2          0.560083         0.125000         0.062500  betrayer     betrayal\n",
       "3          0.785508         0.000000         0.444444    victim     betrayal\n",
       "4          0.982703         0.307692         0.307692  betrayer     betrayal"
      ]
     },
     "execution_count": 42,
     "metadata": {},
     "output_type": "execute_result"
    }
   ],
   "source": [
    "plotting_data = pd.DataFrame(plotting_data) #convert to DataFrame for plotting (easier to plot using seaborn)\n",
    "imbalance_data = pd.DataFrame(imbalance_data) #convert to DataFram for plotting (easier to plot using seaborn)\n",
    "plotting_data.head()"
   ]
  },
  {
   "cell_type": "markdown",
   "metadata": {},
   "source": [
    "### Plotting the data\n",
    "\n",
    "Finally we can take our two datasets (plotting_data and imbalance_data) and plot then on barplots.\n",
    "We used Seaborn for this because it is very easy and intuitive. We made sure the two datasets were formatted in a way that we have appropriate x and y axes and what is called a hue (in our case the relationship ending 'betrayal' or 'no betrayal'). \n",
    "\n",
    "The bootstraped confidence intervals can also be created with the seaborn function by adjusting the confidence interval to being equal to the range between $[\\mu-\\sigma;\\mu+\\sigma] = 68\\%$"
   ]
  },
  {
   "cell_type": "code",
   "execution_count": 58,
   "metadata": {
    "scrolled": false
   },
   "outputs": [
    {
     "data": {
      "image/png": "[encoded data removed]",
      "text/plain": [
       "<Figure size 2880x720 with 6 Axes>"
      ]
     },
     "metadata": {
      "needs_background": "light"
     },
     "output_type": "display_data"
    }
   ],
   "source": [
    "colors = {'no betrayal' : (1,1,1,0),'betrayal' :(1,0.35,0,1)} #Set color palette\n",
    "fig, axs = plt.subplots(1,6, gridspec_kw={'width_ratios': [2,5,2,5,2,5]}, figsize = (40,10)) #set figure size and subplots\n",
    "#plot the right graph with bootstrap confidence interval of 68 percent with represents mean +- 1 std \n",
    "sns.barplot(x = 'Player',y='Politeness Score',hue = 'relationship',data=plotting_data,ax = axs[5],\n",
    "            hue_order = [\"no betrayal\", \"betrayal\"],ci = 68,capsize = 0.03,\n",
    "            linewidth=2, errwidth = 2,errcolor=\".2\", edgecolor=\".1\", palette = colors)\n",
    "axs[5].set(ylim=(0.6,0.7)) #set y limits for better viewing \n",
    "\n",
    "#plot the left graph with bootstrap confidence interval of 68 percent with represents mean +- 1 std \n",
    "sns.barplot(x = 'imbalance',y = 'imbalance politeness', hue = \"relationship\", data = imbalance_data, ax= axs[4],hue_order = [\"no betrayal\", \"betrayal\"], ci = 68, \n",
    "            capsize = 0.03, linewidth=2,errwidth = 2,errcolor=\".2\", edgecolor=\".2\", palette = colors)\n",
    "          \n",
    "axs[4].get_legend().remove() #remove the legend of the left graph because already on the right one \n",
    "axs[4].set(ylim=(-0.04,0.04)) #set y limit for better viewing \n",
    "\n",
    "sns.barplot(x = 'Player',y='Discourse Score',hue = 'relationship',data=plotting_data,ax = axs[3],\n",
    "            hue_order = [\"no betrayal\", \"betrayal\"],ci = 68,capsize = 0.03,\n",
    "            linewidth=2, errwidth = 2,errcolor=\".2\", edgecolor=\".1\", palette = colors)\n",
    "#axs[1].set(ylim=(0.6,0.7)) #set y limits for better viewing \n",
    "\n",
    "#plot the left graph with bootstrap confidence interval of 68 percent with represents mean +- 1 std \n",
    "sns.barplot(x = 'imbalance',y = 'imbalance discourse', hue = \"relationship\", data = imbalance_data, ax= axs[2],hue_order = [\"no betrayal\", \"betrayal\"], ci = 68, \n",
    "            capsize = 0.03, linewidth=2,errwidth = 2,errcolor=\".2\", edgecolor=\".2\", palette = colors)\n",
    "          \n",
    "axs[2].get_legend().remove() #remove the legend of the left graph because already on the right one \n",
    "axs[2].set(ylim=(-0.04,0.04)) #set y limit for better viewing \n",
    "\n",
    "sns.barplot(x = 'Player',y='Sentiment Score',hue = 'relationship',data=plotting_data,ax = axs[1],\n",
    "            hue_order = [\"no betrayal\", \"betrayal\"],ci = 68,capsize = 0.03,\n",
    "            linewidth=2, errwidth = 2,errcolor=\".2\", edgecolor=\".1\", palette = colors) \n",
    "\n",
    "#plot the left graph with bootstrap confidence interval of 68 percent with represents mean +- 1 std \n",
    "sns.barplot(x = 'imbalance',y = 'imbalance sentiment', hue = \"relationship\", data = imbalance_data, ax= axs[0],hue_order = [\"no betrayal\", \"betrayal\"], ci = 68, \n",
    "            capsize = 0.03, linewidth=2,errwidth = 2,errcolor=\".2\", edgecolor=\".2\", palette = colors)\n",
    "          \n",
    "axs[0].get_legend().remove() #remove the legend of the left graph because already on the right one \n",
    "axs[0].set(ylim=(-0.04,0.04)) #set y limit for better viewing \n",
    "#Add general title and save\n",
    "plt.savefig('all.png')\n",
    "\n"
   ]
  },
  {
   "cell_type": "markdown",
   "metadata": {},
   "source": [
    "### General comments about the figure \n",
    "\n",
    "As can be seen the figure looks relatively similar to the one in the report. The only exception is the imbalance plot on the no betryal side which seems to go down a bit more in my figure. This might be due to pixel errors since when I tried to make the figure smaller (and the contours a bit thicker) it gave me a smaller bar. The y limits are also different from the original figure.  "
   ]
  }
 ],
 "metadata": {
  "kernelspec": {
   "display_name": "Python 3",
   "language": "python",
   "name": "python3"
  },
  "language_info": {
   "codemirror_mode": {
    "name": "ipython",
    "version": 3
   },
   "file_extension": ".py",
   "mimetype": "text/x-python",
   "name": "python",
   "nbconvert_exporter": "python",
   "pygments_lexer": "ipython3",
   "version": "3.7.4"
  }
 },
 "nbformat": 4,
 "nbformat_minor": 2
}
