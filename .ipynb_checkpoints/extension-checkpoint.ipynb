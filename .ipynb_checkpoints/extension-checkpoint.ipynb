{
 "cells": [
  {
   "cell_type": "code",
   "execution_count": 1,
   "metadata": {},
   "outputs": [],
   "source": [
    "import seaborn as sns\n",
    "import pandas as pd\n",
    "import numpy as np\n",
    "import matplotlib.pyplot as plt\n",
    "import json\n",
    "from scipy.spatial import distance"
   ]
  },
  {
   "cell_type": "code",
   "execution_count": 2,
   "metadata": {},
   "outputs": [],
   "source": [
    "with open(\"diplomacy_data.json\", \"r\") as file:\n",
    "    diplomacy = json.load(file)\n",
    "old_data = pd.DataFrame(diplomacy)\n",
    "data = pd.read_csv(\"final_data.csv\")"
   ]
  },
  {
   "cell_type": "code",
   "execution_count": 48,
   "metadata": {},
   "outputs": [],
   "source": [
    "betrayals = old_data[old_data['betrayal']==True]['seasons']\n",
    "lasting = old_data[old_data['betrayal']==False]['seasons']"
   ]
  },
  {
   "cell_type": "code",
   "execution_count": 49,
   "metadata": {},
   "outputs": [],
   "source": [
    "def message_politeness(messages):\n",
    "    \"\"\"return the average politeness score for a particular player in a season\"\"\"\n",
    "    if len(messages)!=0:\n",
    "        return sum(m['politeness'] for m in messages)/len(messages)\n",
    "    else:\n",
    "        return 0\n",
    "\n",
    "def message_sentiment(messages):\n",
    "    \"\"\"return positive sentiment average per sentence\"\"\"\n",
    "    if len(messages)!=0:\n",
    "        return sum(m['sentiment']['positive']/m['n_sentences'] if m['n_sentences']!=0 else 0  for m in messages)/len(messages)\n",
    "    else:\n",
    "        return 0\n",
    "\n",
    "def message_discourse(messages):\n",
    "    \"\"\"return the average number of discourse markers per sentence\"\"\"\n",
    "    n_sents = sum(m['n_sentences'] for m in messages) * 1.0\n",
    "    if n_sents !=0:\n",
    "        return sum(len(m['lexicon_words'].get(\"disc_temporal_future\", [])) for m in messages) / n_sents\n",
    "    else :\n",
    "        return 0"
   ]
  },
  {
   "cell_type": "code",
   "execution_count": 54,
   "metadata": {},
   "outputs": [],
   "source": [
    "def extract_stats(player, relation):\n",
    "    pol, disc, sent = [],[],[]\n",
    "    for season in relation:\n",
    "        messages = season['messages'][player]\n",
    "        pol.append(message_politeness(messages))\n",
    "        sent.append(message_sentiment(messages))\n",
    "        disc.append(message_discourse(messages))\n",
    "    pol = np.mean(np.array(pol))\n",
    "    disc = np.mean(np.array(disc))\n",
    "    sent = np.mean(np.array(sent))         \n",
    "    return pol, disc, sent                   "
   ]
  },
  {
   "cell_type": "code",
   "execution_count": 55,
   "metadata": {},
   "outputs": [],
   "source": [
    "def extract_old_data(betrayal, data):\n",
    "    idx, b, length, pol_v, pol_b, disc_v, disc_b, sent_v, sent_b = [],[],[],[],[],[],[],[],[]\n",
    "    index = data.index\n",
    "    i = 0\n",
    "    for rel in data:\n",
    "        idx.append(index[i])\n",
    "        i +=1\n",
    "        b.append(betrayal)\n",
    "        length.append(len(rel))\n",
    "        pol_v_temp, disc_v_temp, sent_v_temp = extract_stats('victim', rel)\n",
    "        pol_b_temp, disc_b_temp, sent_b_temp = extract_stats('betrayer', rel)\n",
    "        pol_v.append(pol_v_temp)\n",
    "        pol_b.append(pol_b_temp)\n",
    "        disc_v.append(disc_v_temp)\n",
    "        disc_b.append(disc_b_temp)\n",
    "        sent_v.append(sent_v_temp)\n",
    "        sent_b.append(sent_b_temp)\n",
    "    new_old_data = pd.DataFrame({'ID':idx,'Length':length, 'Politeness victim':pol_v,'Politeness betrayer':pol_b,\n",
    "                                'Discourse victim': disc_v, 'Discourse betrayer':disc_b, 'Sentiment victim':sent_v, \n",
    "                                'Sentiment betrayer': sent_b, 'Betrayal': b})\n",
    "    return new_old_data"
   ]
  },
  {
   "cell_type": "code",
   "execution_count": 56,
   "metadata": {},
   "outputs": [
    {
     "data": {
      "text/html": [
       "<div>\n",
       "<style scoped>\n",
       "    .dataframe tbody tr th:only-of-type {\n",
       "        vertical-align: middle;\n",
       "    }\n",
       "\n",
       "    .dataframe tbody tr th {\n",
       "        vertical-align: top;\n",
       "    }\n",
       "\n",
       "    .dataframe thead th {\n",
       "        text-align: right;\n",
       "    }\n",
       "</style>\n",
       "<table border=\"1\" class=\"dataframe\">\n",
       "  <thead>\n",
       "    <tr style=\"text-align: right;\">\n",
       "      <th></th>\n",
       "      <th>ID</th>\n",
       "      <th>Length</th>\n",
       "      <th>Politeness victim</th>\n",
       "      <th>Politeness betrayer</th>\n",
       "      <th>Discourse victim</th>\n",
       "      <th>Discourse betrayer</th>\n",
       "      <th>Sentiment victim</th>\n",
       "      <th>Sentiment betrayer</th>\n",
       "      <th>Betrayal</th>\n",
       "    </tr>\n",
       "  </thead>\n",
       "  <tbody>\n",
       "    <tr>\n",
       "      <th>0</th>\n",
       "      <td>0</td>\n",
       "      <td>8</td>\n",
       "      <td>0.635394</td>\n",
       "      <td>0.775357</td>\n",
       "      <td>0.096784</td>\n",
       "      <td>0.115962</td>\n",
       "      <td>0.148072</td>\n",
       "      <td>0.211070</td>\n",
       "      <td>True</td>\n",
       "    </tr>\n",
       "    <tr>\n",
       "      <th>1</th>\n",
       "      <td>5</td>\n",
       "      <td>10</td>\n",
       "      <td>0.666831</td>\n",
       "      <td>0.746529</td>\n",
       "      <td>0.216604</td>\n",
       "      <td>0.076771</td>\n",
       "      <td>0.214007</td>\n",
       "      <td>0.260434</td>\n",
       "      <td>True</td>\n",
       "    </tr>\n",
       "    <tr>\n",
       "      <th>2</th>\n",
       "      <td>8</td>\n",
       "      <td>5</td>\n",
       "      <td>0.338930</td>\n",
       "      <td>0.592231</td>\n",
       "      <td>0.066667</td>\n",
       "      <td>0.173333</td>\n",
       "      <td>0.266667</td>\n",
       "      <td>0.216667</td>\n",
       "      <td>True</td>\n",
       "    </tr>\n",
       "    <tr>\n",
       "      <th>3</th>\n",
       "      <td>9</td>\n",
       "      <td>6</td>\n",
       "      <td>0.452057</td>\n",
       "      <td>0.398960</td>\n",
       "      <td>0.083333</td>\n",
       "      <td>0.000000</td>\n",
       "      <td>0.000000</td>\n",
       "      <td>0.125000</td>\n",
       "      <td>True</td>\n",
       "    </tr>\n",
       "    <tr>\n",
       "      <th>4</th>\n",
       "      <td>10</td>\n",
       "      <td>3</td>\n",
       "      <td>0.598370</td>\n",
       "      <td>0.608430</td>\n",
       "      <td>0.033333</td>\n",
       "      <td>0.108333</td>\n",
       "      <td>0.155556</td>\n",
       "      <td>0.125000</td>\n",
       "      <td>True</td>\n",
       "    </tr>\n",
       "  </tbody>\n",
       "</table>\n",
       "</div>"
      ],
      "text/plain": [
       "   ID  Length  Politeness victim  Politeness betrayer  Discourse victim  \\\n",
       "0   0       8           0.635394             0.775357          0.096784   \n",
       "1   5      10           0.666831             0.746529          0.216604   \n",
       "2   8       5           0.338930             0.592231          0.066667   \n",
       "3   9       6           0.452057             0.398960          0.083333   \n",
       "4  10       3           0.598370             0.608430          0.033333   \n",
       "\n",
       "   Discourse betrayer  Sentiment victim  Sentiment betrayer  Betrayal  \n",
       "0            0.115962          0.148072            0.211070      True  \n",
       "1            0.076771          0.214007            0.260434      True  \n",
       "2            0.173333          0.266667            0.216667      True  \n",
       "3            0.000000          0.000000            0.125000      True  \n",
       "4            0.108333          0.155556            0.125000      True  "
      ]
     },
     "execution_count": 56,
     "metadata": {},
     "output_type": "execute_result"
    }
   ],
   "source": [
    "new_betrayals = extract_old_data(True, betrayals)\n",
    "new_lasting = extract_old_data(False, lasting)\n",
    "new_old_data = pd.concat([new_betrayals, new_lasting])\n",
    "new_old_data.head()"
   ]
  },
  {
   "cell_type": "code",
   "execution_count": 57,
   "metadata": {},
   "outputs": [
    {
     "data": {
      "text/html": [
       "<div>\n",
       "<style scoped>\n",
       "    .dataframe tbody tr th:only-of-type {\n",
       "        vertical-align: middle;\n",
       "    }\n",
       "\n",
       "    .dataframe tbody tr th {\n",
       "        vertical-align: top;\n",
       "    }\n",
       "\n",
       "    .dataframe thead th {\n",
       "        text-align: right;\n",
       "    }\n",
       "</style>\n",
       "<table border=\"1\" class=\"dataframe\">\n",
       "  <thead>\n",
       "    <tr style=\"text-align: right;\">\n",
       "      <th></th>\n",
       "      <th>Unnamed: 0</th>\n",
       "      <th>Unnamed: 0.1</th>\n",
       "      <th>id</th>\n",
       "      <th>timestamp</th>\n",
       "      <th>text</th>\n",
       "      <th>speaker</th>\n",
       "      <th>reply_to</th>\n",
       "      <th>conversation_id</th>\n",
       "      <th>meta.speaker_intention</th>\n",
       "      <th>meta.receiver_perception</th>\n",
       "      <th>...</th>\n",
       "      <th>meta.game_score_delta</th>\n",
       "      <th>meta.deception_quadrant</th>\n",
       "      <th>meta.parsed</th>\n",
       "      <th>meta.politeness_strategies</th>\n",
       "      <th>meta.politeness_markers</th>\n",
       "      <th>meta.prediction</th>\n",
       "      <th>meta.pred_score</th>\n",
       "      <th>sentiment</th>\n",
       "      <th>discourse_markers</th>\n",
       "      <th>discourse_number</th>\n",
       "    </tr>\n",
       "  </thead>\n",
       "  <tbody>\n",
       "    <tr>\n",
       "      <th>0</th>\n",
       "      <td>0</td>\n",
       "      <td>0</td>\n",
       "      <td>Game1-italy-germany-0</td>\n",
       "      <td>74</td>\n",
       "      <td>Germany!\\n\\nJust the person I want to speak wi...</td>\n",
       "      <td>italy-Game1</td>\n",
       "      <td>NaN</td>\n",
       "      <td>Game1-italy-germany</td>\n",
       "      <td>Truth</td>\n",
       "      <td>Truth</td>\n",
       "      <td>...</td>\n",
       "      <td>0</td>\n",
       "      <td>Straightforward</td>\n",
       "      <td>[{'rt': 0, 'toks': [{'tok': 'germany', 'tag': ...</td>\n",
       "      <td>{'feature_politeness_==Please==': 0, 'feature_...</td>\n",
       "      <td>{'politeness_markers_==Please==': [], 'politen...</td>\n",
       "      <td>0</td>\n",
       "      <td>0.117153</td>\n",
       "      <td>-1.0</td>\n",
       "      <td>[]</td>\n",
       "      <td>0</td>\n",
       "    </tr>\n",
       "    <tr>\n",
       "      <th>1</th>\n",
       "      <td>1</td>\n",
       "      <td>1</td>\n",
       "      <td>Game1-italy-germany-1</td>\n",
       "      <td>76</td>\n",
       "      <td>You've whet my appetite, Italy. What's the sug...</td>\n",
       "      <td>germany-Game1</td>\n",
       "      <td>Game1-italy-germany-0</td>\n",
       "      <td>Game1-italy-germany</td>\n",
       "      <td>Truth</td>\n",
       "      <td>Truth</td>\n",
       "      <td>...</td>\n",
       "      <td>0</td>\n",
       "      <td>Straightforward</td>\n",
       "      <td>[{'rt': 2, 'toks': [{'tok': 'you', 'tag': 'PRP...</td>\n",
       "      <td>{'feature_politeness_==Please==': 0, 'feature_...</td>\n",
       "      <td>{'politeness_markers_==Please==': [], 'politen...</td>\n",
       "      <td>0</td>\n",
       "      <td>0.099555</td>\n",
       "      <td>0.0</td>\n",
       "      <td>[]</td>\n",
       "      <td>0</td>\n",
       "    </tr>\n",
       "    <tr>\n",
       "      <th>2</th>\n",
       "      <td>2</td>\n",
       "      <td>2</td>\n",
       "      <td>Game1-italy-germany-2</td>\n",
       "      <td>86</td>\n",
       "      <td>👍</td>\n",
       "      <td>italy-Game1</td>\n",
       "      <td>Game1-italy-germany-1</td>\n",
       "      <td>Game1-italy-germany</td>\n",
       "      <td>Truth</td>\n",
       "      <td>Truth</td>\n",
       "      <td>...</td>\n",
       "      <td>0</td>\n",
       "      <td>Straightforward</td>\n",
       "      <td>[{'rt': 0, 'toks': [{'tok': '👍', 'tag': 'JJ', ...</td>\n",
       "      <td>{'feature_politeness_==Please==': 0, 'feature_...</td>\n",
       "      <td>{'politeness_markers_==Please==': [], 'politen...</td>\n",
       "      <td>0</td>\n",
       "      <td>0.218280</td>\n",
       "      <td>0.0</td>\n",
       "      <td>[]</td>\n",
       "      <td>0</td>\n",
       "    </tr>\n",
       "    <tr>\n",
       "      <th>3</th>\n",
       "      <td>3</td>\n",
       "      <td>3</td>\n",
       "      <td>Game1-italy-germany-3</td>\n",
       "      <td>87</td>\n",
       "      <td>It seems like there are a lot of ways that cou...</td>\n",
       "      <td>germany-Game1</td>\n",
       "      <td>Game1-italy-germany-2</td>\n",
       "      <td>Game1-italy-germany</td>\n",
       "      <td>Truth</td>\n",
       "      <td>Truth</td>\n",
       "      <td>...</td>\n",
       "      <td>0</td>\n",
       "      <td>Straightforward</td>\n",
       "      <td>[{'rt': 1, 'toks': [{'tok': 'it', 'tag': 'PRP'...</td>\n",
       "      <td>{'feature_politeness_==Please==': 0, 'feature_...</td>\n",
       "      <td>{'politeness_markers_==Please==': [], 'politen...</td>\n",
       "      <td>1</td>\n",
       "      <td>0.678238</td>\n",
       "      <td>-1.0</td>\n",
       "      <td>['while']</td>\n",
       "      <td>1</td>\n",
       "    </tr>\n",
       "    <tr>\n",
       "      <th>4</th>\n",
       "      <td>4</td>\n",
       "      <td>4</td>\n",
       "      <td>Game1-italy-germany-4</td>\n",
       "      <td>89</td>\n",
       "      <td>Yeah, I can’t say I’ve tried it and it works, ...</td>\n",
       "      <td>italy-Game1</td>\n",
       "      <td>Game1-italy-germany-3</td>\n",
       "      <td>Game1-italy-germany</td>\n",
       "      <td>Truth</td>\n",
       "      <td>NaN</td>\n",
       "      <td>...</td>\n",
       "      <td>0</td>\n",
       "      <td>Unknown</td>\n",
       "      <td>[{'rt': 5, 'toks': [{'tok': 'yeah', 'tag': 'UH...</td>\n",
       "      <td>{'feature_politeness_==Please==': 0, 'feature_...</td>\n",
       "      <td>{'politeness_markers_==Please==': [], 'politen...</td>\n",
       "      <td>0</td>\n",
       "      <td>0.179907</td>\n",
       "      <td>-1.0</td>\n",
       "      <td>['before']</td>\n",
       "      <td>1</td>\n",
       "    </tr>\n",
       "  </tbody>\n",
       "</table>\n",
       "<p>5 rows × 25 columns</p>\n",
       "</div>"
      ],
      "text/plain": [
       "   Unnamed: 0  Unnamed: 0.1                     id  timestamp  \\\n",
       "0           0             0  Game1-italy-germany-0         74   \n",
       "1           1             1  Game1-italy-germany-1         76   \n",
       "2           2             2  Game1-italy-germany-2         86   \n",
       "3           3             3  Game1-italy-germany-3         87   \n",
       "4           4             4  Game1-italy-germany-4         89   \n",
       "\n",
       "                                                text        speaker  \\\n",
       "0  Germany!\\n\\nJust the person I want to speak wi...    italy-Game1   \n",
       "1  You've whet my appetite, Italy. What's the sug...  germany-Game1   \n",
       "2                                                  👍    italy-Game1   \n",
       "3  It seems like there are a lot of ways that cou...  germany-Game1   \n",
       "4  Yeah, I can’t say I’ve tried it and it works, ...    italy-Game1   \n",
       "\n",
       "                reply_to      conversation_id meta.speaker_intention  \\\n",
       "0                    NaN  Game1-italy-germany                  Truth   \n",
       "1  Game1-italy-germany-0  Game1-italy-germany                  Truth   \n",
       "2  Game1-italy-germany-1  Game1-italy-germany                  Truth   \n",
       "3  Game1-italy-germany-2  Game1-italy-germany                  Truth   \n",
       "4  Game1-italy-germany-3  Game1-italy-germany                  Truth   \n",
       "\n",
       "  meta.receiver_perception  ... meta.game_score_delta  \\\n",
       "0                    Truth  ...                     0   \n",
       "1                    Truth  ...                     0   \n",
       "2                    Truth  ...                     0   \n",
       "3                    Truth  ...                     0   \n",
       "4                      NaN  ...                     0   \n",
       "\n",
       "   meta.deception_quadrant                                        meta.parsed  \\\n",
       "0          Straightforward  [{'rt': 0, 'toks': [{'tok': 'germany', 'tag': ...   \n",
       "1          Straightforward  [{'rt': 2, 'toks': [{'tok': 'you', 'tag': 'PRP...   \n",
       "2          Straightforward  [{'rt': 0, 'toks': [{'tok': '👍', 'tag': 'JJ', ...   \n",
       "3          Straightforward  [{'rt': 1, 'toks': [{'tok': 'it', 'tag': 'PRP'...   \n",
       "4                  Unknown  [{'rt': 5, 'toks': [{'tok': 'yeah', 'tag': 'UH...   \n",
       "\n",
       "                          meta.politeness_strategies  \\\n",
       "0  {'feature_politeness_==Please==': 0, 'feature_...   \n",
       "1  {'feature_politeness_==Please==': 0, 'feature_...   \n",
       "2  {'feature_politeness_==Please==': 0, 'feature_...   \n",
       "3  {'feature_politeness_==Please==': 0, 'feature_...   \n",
       "4  {'feature_politeness_==Please==': 0, 'feature_...   \n",
       "\n",
       "                             meta.politeness_markers  meta.prediction  \\\n",
       "0  {'politeness_markers_==Please==': [], 'politen...                0   \n",
       "1  {'politeness_markers_==Please==': [], 'politen...                0   \n",
       "2  {'politeness_markers_==Please==': [], 'politen...                0   \n",
       "3  {'politeness_markers_==Please==': [], 'politen...                1   \n",
       "4  {'politeness_markers_==Please==': [], 'politen...                0   \n",
       "\n",
       "  meta.pred_score sentiment discourse_markers discourse_number  \n",
       "0        0.117153      -1.0                []                0  \n",
       "1        0.099555       0.0                []                0  \n",
       "2        0.218280       0.0                []                0  \n",
       "3        0.678238      -1.0         ['while']                1  \n",
       "4        0.179907      -1.0        ['before']                1  \n",
       "\n",
       "[5 rows x 25 columns]"
      ]
     },
     "execution_count": 57,
     "metadata": {},
     "output_type": "execute_result"
    }
   ],
   "source": [
    "data.head()"
   ]
  },
  {
   "cell_type": "code",
   "execution_count": 22,
   "metadata": {},
   "outputs": [
    {
     "name": "stdout",
     "output_type": "stream",
     "text": [
      "Number of intended lies : 867\n",
      "Number of intended truths : 16090\n"
     ]
    }
   ],
   "source": [
    "lies = data[data[\"meta.speaker_intention\"] == 'Lie']\n",
    "truths = data[data[\"meta.speaker_intention\"] == 'Truth']\n",
    "print(\"Number of intended lies :\", lies.shape[0])\n",
    "print(\"Number of intended truths :\", truths.shape[0])"
   ]
  },
  {
   "cell_type": "code",
   "execution_count": 23,
   "metadata": {},
   "outputs": [],
   "source": [
    "coolors = {\"Black\":[12/256,15/256,10/256],\n",
    " \"Green\":[21/256,113/256,69/256], #dark green\n",
    " \"Emerald\":[90/256,200/256,120/256], #light green\n",
    " \"Red\":[256/256,60/256,50/256], #light red\n",
    " \"Burgundy\":[165/256,36/256,61/256]} #dark red"
   ]
  },
  {
   "cell_type": "code",
   "execution_count": 30,
   "metadata": {},
   "outputs": [
    {
     "data": {
      "text/plain": [
       "<matplotlib.axes._subplots.AxesSubplot at 0x1dedca1e588>"
      ]
     },
     "execution_count": 30,
     "metadata": {},
     "output_type": "execute_result"
    },
    {
     "data": {
      "image/png": "[encoded data removed]",
      "text/plain": [
       "<Figure size 720x360 with 4 Axes>"
      ]
     },
     "metadata": {
      "needs_background": "light"
     },
     "output_type": "display_data"
    }
   ],
   "source": [
    "colors = {'Lie' : coolors[\"Red\"], 'Truth': coolors[\"Emerald\"]}\n",
    "fig, axs = plt.subplots(2,2, figsize = (10,5))\n",
    "sns.histplot(data = truths, x = \"meta.pred_score\", ax = axs[0,0], color = colors['Truth'], \n",
    "             edgecolor=coolors['Green'], linewidth=1.5)\n",
    "sns.histplot(data = lies, x = \"meta.pred_score\", ax = axs[0,1], color=colors['Lie'], \n",
    "             edgecolor = coolors['Burgundy'], linewidth=2)\n",
    "sns.histplot(data = truths, x = \"discourse_number\", ax = axs[1,0], color = colors['Truth'], \n",
    "             edgecolor=coolors['Green'], linewidth=1.5)\n",
    "sns.histplot(data = lies, x = \"discourse_number\", ax = axs[1,1], color=colors['Lie'], \n",
    "             edgecolor = coolors['Burgundy'], linewidth=2)"
   ]
  },
  {
   "cell_type": "code",
   "execution_count": 29,
   "metadata": {},
   "outputs": [
    {
     "data": {
      "text/plain": [
       "<matplotlib.axes._subplots.AxesSubplot at 0x1dedcca8ef0>"
      ]
     },
     "execution_count": 29,
     "metadata": {},
     "output_type": "execute_result"
    },
    {
     "data": {
      "image/png": "[encoded data removed]",
      "text/plain": [
       "<Figure size 720x360 with 2 Axes>"
      ]
     },
     "metadata": {
      "needs_background": "light"
     },
     "output_type": "display_data"
    }
   ],
   "source": [
    "fig, axs = plt.subplots(1,2, figsize = (10,5))\n",
    "sns.barplot(data = data, y = \"meta.pred_score\", x = \"meta.speaker_intention\", ci = 68, \n",
    "            capsize = 0.03, linewidth=2,errwidth = 2,errcolor=\".2\", edgecolor=\".2\", palette = colors, ax = axs[0])\n",
    "sns.barplot(data = data, y = \"discourse_number\", x = \"meta.speaker_intention\", ci = 68, \n",
    "            capsize = 0.03, linewidth=2,errwidth = 2,errcolor=\".2\", edgecolor=\".2\", palette = colors, ax = axs[1])"
   ]
  },
  {
   "cell_type": "markdown",
   "metadata": {},
   "source": [
    "to do :\n",
    "- replotter les 3 figures du paper (Fig3 a, b, c)\n",
    "- matching avec les relations de l'ancien dataset\n"
   ]
  },
  {
   "cell_type": "code",
   "execution_count": 40,
   "metadata": {},
   "outputs": [],
   "source": [
    "#243 relations"
   ]
  },
  {
   "cell_type": "code",
   "execution_count": 44,
   "metadata": {},
   "outputs": [
    {
     "data": {
      "text/plain": [
       "1901"
      ]
     },
     "execution_count": 44,
     "metadata": {},
     "output_type": "execute_result"
    }
   ],
   "source": [
    "data[\"meta.year\"][0]"
   ]
  },
  {
   "cell_type": "markdown",
   "metadata": {},
   "source": [
    "matching :\n",
    "I personally very much like the cosine of angle (uncentered Pearson correlation) for multidimensional data because it has several advantages:\n",
    "-it is bound on the interval [-1,1]\n",
    "-distribution of correlation between random vectors becomes narrowly focused around zero as the dimensionality grows. So the significance of small correlations increases with growing dimensionality.\n",
    "-it is good at capturing the similarity of patterns of feature changes, at the same time disregarding the absolute amplitude of the compared feature vectors. This is very useful for certain kinds of data (gene expression patterns, multivariate phenotype analysis, proteomics, mineral composition data in geology)\n",
    "\n",
    "distance.cosine"
   ]
  },
  {
   "cell_type": "code",
   "execution_count": null,
   "metadata": {},
   "outputs": [],
   "source": []
  }
 ],
 "metadata": {
  "kernelspec": {
   "display_name": "Python 3",
   "language": "python",
   "name": "python3"
  },
  "language_info": {
   "codemirror_mode": {
    "name": "ipython",
    "version": 3
   },
   "file_extension": ".py",
   "mimetype": "text/x-python",
   "name": "python",
   "nbconvert_exporter": "python",
   "pygments_lexer": "ipython3",
   "version": "3.7.3"
  }
 },
 "nbformat": 4,
 "nbformat_minor": 2
}
